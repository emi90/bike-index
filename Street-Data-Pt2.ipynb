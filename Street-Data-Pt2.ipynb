{
 "cells": [
  {
   "cell_type": "markdown",
   "id": "289c26a5",
   "metadata": {},
   "source": [
    "## Bike Index Seattle - Data Prep\n",
    "\n",
    "### Data cleaning for Seattle streets data, Pt2"
   ]
  },
  {
   "cell_type": "markdown",
   "id": "9b448ad5",
   "metadata": {},
   "source": [
    "##### Objective: Recreate the study by Allen-Munley et al. (2004) for Seattle using WSDOT crash data.\n",
    "\n",
    "\n",
    "#### Part 3.\n",
    "\n",
    "I will take traffic volume data from [SDOT](https://data-seattlecitygis.opendata.arcgis.com/datasets/SeattleCityGIS::2018-traffic-flow-counts/about), which contain the following [attributes](https://drive.google.com/file/d/1H-ooaihoawm8zXjZz_-AhBmwyRiT1FWQ/view). This is the volume data from 2018, which is the latest and most complete. [2016 Volume](https://data-seattlecitygis.opendata.arcgis.com/datasets/SeattleCityGIS::2016-traffic-flow-counts/about) ([metadata](https://www.seattle.gov/Documents/Departments/SDOT/GIS/2016_Traffic_Flow_Counts_OD.pdf)) and [2017 Volume](https://data-seattlecitygis.opendata.arcgis.com/datasets/SeattleCityGIS::2017-traffic-flow-counts/about) ([metadata](https://drive.google.com/file/d/1GEuTEN-oPdtu5zesU1XJKubNt2RX2Lwj/view)) are available but less complete, and 2019 and 2020 volume data is not (yet?) available.\n"
   ]
  },
  {
   "cell_type": "markdown",
   "id": "c7f39977",
   "metadata": {},
   "source": [
    "Similar to the street data attributes, I will take the coordinate data and project to the street/line data, and replot the point on the nearest line segment.  \n",
    "\n",
    "Finally, I will merge the street/crash data with volume/crash data, to finalize the data prep to get the attributes needed to recreate the study."
   ]
  },
  {
   "cell_type": "code",
   "execution_count": 1,
   "id": "76687e60",
   "metadata": {},
   "outputs": [],
   "source": [
    "import pandas as pd\n",
    "import numpy as np\n",
    "\n",
    "import geopandas as gpd\n",
    "from shapely.geometry import Point, LineString\n",
    "\n",
    "import requests\n",
    "import json\n",
    "\n",
    "import matplotlib.pyplot as plt\n",
    "\n",
    "from point_line_snap import SnapLinePoint"
   ]
  },
  {
   "cell_type": "code",
   "execution_count": 2,
   "id": "2c5bdb08",
   "metadata": {},
   "outputs": [],
   "source": [
    "%matplotlib inline"
   ]
  },
  {
   "cell_type": "markdown",
   "id": "fd2c1150",
   "metadata": {},
   "source": [
    "#### Step 1: Load data\n",
    "\n",
    "- Load crash/streets merged data (from Crash Prep and Street Prep Part2)\n",
    "- Load volume data from SDOT\n",
    "- Convert to GDF"
   ]
  },
  {
   "cell_type": "code",
   "execution_count": 3,
   "id": "9a71150b",
   "metadata": {},
   "outputs": [],
   "source": [
    "# From Streets Prep\n",
    "\n",
    "crashes_merged = pd.read_csv('data/crash_streets.csv', parse_dates=['DATETIME'])"
   ]
  },
  {
   "cell_type": "code",
   "execution_count": 4,
   "id": "7fab8b8c",
   "metadata": {},
   "outputs": [],
   "source": [
    "# From Crash Data Prep\n",
    "\n",
    "crashes = pd.read_csv('data/bike_crash.csv', parse_dates=['DATETIME'])"
   ]
  },
  {
   "cell_type": "code",
   "execution_count": 5,
   "id": "c012428c",
   "metadata": {},
   "outputs": [
    {
     "data": {
      "text/plain": [
       "<AxesSubplot:xlabel='DATETIME'>"
      ]
     },
     "execution_count": 5,
     "metadata": {},
     "output_type": "execute_result"
    },
    {
     "data": {
      "image/png": "[encoded data removed]",
      "text/plain": [
       "<Figure size 432x288 with 1 Axes>"
      ]
     },
     "metadata": {
      "needs_background": "light"
     },
     "output_type": "display_data"
    }
   ],
   "source": [
    "# Distribution of crashes by year- what vehicle volume data to use?\n",
    "\n",
    "crashes_merged['line_i'].groupby(crashes_merged.DATETIME.dt.year).count().plot(kind='bar')"
   ]
  },
  {
   "cell_type": "code",
   "execution_count": 6,
   "id": "f544d8a7",
   "metadata": {},
   "outputs": [],
   "source": [
    "# Helper function\n",
    "\n",
    "def get_gdf(url):\n",
    "    \n",
    "    r = requests.get(url)\n",
    "    json = r.json()\n",
    "    \n",
    "    return gpd.GeoDataFrame.from_features(json['features'])"
   ]
  },
  {
   "cell_type": "code",
   "execution_count": 7,
   "id": "f76f3767",
   "metadata": {},
   "outputs": [],
   "source": [
    "# No volume data for 2019 or 2020 available as of Jul 2021\n",
    "\n",
    "url_2016 = 'https://opendata.arcgis.com/datasets/170b764c52f34c9497720c0463f3b58b_9.geojson'\n",
    "url_2017 = 'https://opendata.arcgis.com/datasets/2c37babc94d64bbb938a9b520bc5538c_10.geojson'\n",
    "url_2018 = 'https://opendata.arcgis.com/datasets/a35aa9249110472ba2c69cc574eff984_11.geojson'"
   ]
  },
  {
   "cell_type": "code",
   "execution_count": 8,
   "id": "c51cd2a4",
   "metadata": {},
   "outputs": [],
   "source": [
    "# Get GDF from json\n",
    "\n",
    "vol_2016 = get_gdf(url_2016)\n",
    "vol_2017 = get_gdf(url_2017)\n",
    "vol_2018 = get_gdf(url_2018)"
   ]
  },
  {
   "cell_type": "markdown",
   "id": "16c1076d",
   "metadata": {},
   "source": [
    "Use 2018 volume data as proxy for all crashes- \n",
    "- 2019, 2020 data is not (yet?) available\n",
    "- 2018 is more complete compared to 2016 and 2017"
   ]
  },
  {
   "cell_type": "code",
   "execution_count": 9,
   "id": "64561ec1",
   "metadata": {},
   "outputs": [
    {
     "name": "stdout",
     "output_type": "stream",
     "text": [
      "vol_2016.shape  (1865, 15)\n",
      "vol_2017.shape  (1876, 15)\n",
      "vol_2018.shape  (1906, 15)\n"
     ]
    }
   ],
   "source": [
    "print('vol_2016.shape ',vol_2016.shape)\n",
    "print('vol_2017.shape ',vol_2017.shape)\n",
    "print('vol_2018.shape ',vol_2018.shape)"
   ]
  },
  {
   "cell_type": "code",
   "execution_count": 10,
   "id": "8aae17ed",
   "metadata": {},
   "outputs": [],
   "source": [
    "# Use 2018 volume data\n",
    "\n",
    "volume = vol_2018"
   ]
  },
  {
   "cell_type": "code",
   "execution_count": 11,
   "id": "c26c7a48",
   "metadata": {},
   "outputs": [
    {
     "data": {
      "text/plain": [
       "Index(['geometry', 'OBJECTID', 'COMPKEY', 'STNAME_ORD', 'FLOWSEGID',\n",
       "       'DOWNTOWN', 'START_DATE', 'AMPK', 'PMPK', 'AWDT', 'ADT', 'AWDT_ROUNDED',\n",
       "       'DATAQUALITY', 'FLAGS', 'SHAPE_Length'],\n",
       "      dtype='object')"
      ]
     },
     "execution_count": 11,
     "metadata": {},
     "output_type": "execute_result"
    }
   ],
   "source": [
    "volume.columns"
   ]
  },
  {
   "cell_type": "code",
   "execution_count": 12,
   "id": "d87f6b22",
   "metadata": {},
   "outputs": [],
   "source": [
    "# Convert to GDF\n",
    "\n",
    "keep_cols = ['geometry',\n",
    "            'STNAME_ORD',\n",
    "            'AWDT',\n",
    "            'ADT',\n",
    "            'AWDT_ROUNDED',\n",
    "            'SHAPE_Length']\n",
    "\n",
    "vol_gdf = gpd.GeoDataFrame(volume[keep_cols], geometry='geometry')"
   ]
  },
  {
   "cell_type": "code",
   "execution_count": 13,
   "id": "f3f7e021",
   "metadata": {
    "scrolled": true
   },
   "outputs": [
    {
     "data": {
      "text/html": [
       "<div>\n",
       "<style scoped>\n",
       "    .dataframe tbody tr th:only-of-type {\n",
       "        vertical-align: middle;\n",
       "    }\n",
       "\n",
       "    .dataframe tbody tr th {\n",
       "        vertical-align: top;\n",
       "    }\n",
       "\n",
       "    .dataframe thead th {\n",
       "        text-align: right;\n",
       "    }\n",
       "</style>\n",
       "<table border=\"1\" class=\"dataframe\">\n",
       "  <thead>\n",
       "    <tr style=\"text-align: right;\">\n",
       "      <th></th>\n",
       "      <th>geometry</th>\n",
       "      <th>STNAME_ORD</th>\n",
       "      <th>AWDT</th>\n",
       "      <th>ADT</th>\n",
       "      <th>AWDT_ROUNDED</th>\n",
       "      <th>SHAPE_Length</th>\n",
       "    </tr>\n",
       "  </thead>\n",
       "  <tbody>\n",
       "    <tr>\n",
       "      <th>0</th>\n",
       "      <td>LINESTRING (-122.33315 47.61306, -122.33204 47...</td>\n",
       "      <td>PINE ST</td>\n",
       "      <td>8000.0</td>\n",
       "      <td>NaN</td>\n",
       "      <td>8000</td>\n",
       "      <td>322.037238</td>\n",
       "    </tr>\n",
       "    <tr>\n",
       "      <th>1</th>\n",
       "      <td>LINESTRING (-122.37523 47.65358, -122.37539 47...</td>\n",
       "      <td>15TH AVE W ON RP</td>\n",
       "      <td>11129.0</td>\n",
       "      <td>10139.0</td>\n",
       "      <td>11100</td>\n",
       "      <td>173.612269</td>\n",
       "    </tr>\n",
       "    <tr>\n",
       "      <th>2</th>\n",
       "      <td>MULTILINESTRING ((-122.30381 47.67578, -122.30...</td>\n",
       "      <td>NE 65TH ST</td>\n",
       "      <td>20487.0</td>\n",
       "      <td>19740.0</td>\n",
       "      <td>20500</td>\n",
       "      <td>1445.416389</td>\n",
       "    </tr>\n",
       "    <tr>\n",
       "      <th>3</th>\n",
       "      <td>MULTILINESTRING ((-122.41212 47.65410, -122.41...</td>\n",
       "      <td>W EMERSON ST</td>\n",
       "      <td>1007.0</td>\n",
       "      <td>1090.0</td>\n",
       "      <td>1000</td>\n",
       "      <td>999.190937</td>\n",
       "    </tr>\n",
       "    <tr>\n",
       "      <th>4</th>\n",
       "      <td>MULTILINESTRING ((-122.28080 47.52610, -122.28...</td>\n",
       "      <td>S CLOVERDALE ST</td>\n",
       "      <td>4868.0</td>\n",
       "      <td>4615.0</td>\n",
       "      <td>4900</td>\n",
       "      <td>2077.434844</td>\n",
       "    </tr>\n",
       "  </tbody>\n",
       "</table>\n",
       "</div>"
      ],
      "text/plain": [
       "                                            geometry        STNAME_ORD  \\\n",
       "0  LINESTRING (-122.33315 47.61306, -122.33204 47...           PINE ST   \n",
       "1  LINESTRING (-122.37523 47.65358, -122.37539 47...  15TH AVE W ON RP   \n",
       "2  MULTILINESTRING ((-122.30381 47.67578, -122.30...        NE 65TH ST   \n",
       "3  MULTILINESTRING ((-122.41212 47.65410, -122.41...      W EMERSON ST   \n",
       "4  MULTILINESTRING ((-122.28080 47.52610, -122.28...   S CLOVERDALE ST   \n",
       "\n",
       "      AWDT      ADT  AWDT_ROUNDED  SHAPE_Length  \n",
       "0   8000.0      NaN          8000    322.037238  \n",
       "1  11129.0  10139.0         11100    173.612269  \n",
       "2  20487.0  19740.0         20500   1445.416389  \n",
       "3   1007.0   1090.0          1000    999.190937  \n",
       "4   4868.0   4615.0          4900   2077.434844  "
      ]
     },
     "execution_count": 13,
     "metadata": {},
     "output_type": "execute_result"
    }
   ],
   "source": [
    "vol_gdf.head()"
   ]
  },
  {
   "cell_type": "code",
   "execution_count": 14,
   "id": "2a59f675",
   "metadata": {},
   "outputs": [
    {
     "data": {
      "text/plain": [
       "<AxesSubplot:>"
      ]
     },
     "execution_count": 14,
     "metadata": {},
     "output_type": "execute_result"
    },
    {
     "data": {
      "image/png": "[encoded data removed]",
      "text/plain": [
       "<Figure size 432x288 with 1 Axes>"
      ]
     },
     "metadata": {
      "needs_background": "light"
     },
     "output_type": "display_data"
    }
   ],
   "source": [
    "vol_gdf.plot('AWDT_ROUNDED')"
   ]
  },
  {
   "cell_type": "code",
   "execution_count": 15,
   "id": "d1ae42b5",
   "metadata": {},
   "outputs": [],
   "source": [
    "# Load crash data, convert to GDF\n",
    "\n",
    "geom = [Point(xy) for xy in zip(crashes.LONGITUDE, crashes.LATITUDE)]\n",
    "\n",
    "crashes_gdf = gpd.GeoDataFrame(crashes.drop(['LATITUDE','LONGITUDE'], axis = 1),\n",
    "                               geometry = geom)"
   ]
  },
  {
   "cell_type": "markdown",
   "id": "6b2df111",
   "metadata": {},
   "source": [
    "#### Step 2: Find volume segment corresponding to point data\n",
    "\n",
    "\n",
    "- Repeat the snap-point-line exercise from Street Data Prep, this time snapping the crash coordinates to the volume street data"
   ]
  },
  {
   "cell_type": "code",
   "execution_count": 16,
   "id": "b2306ed3",
   "metadata": {},
   "outputs": [],
   "source": [
    "# Initiate SLP class, using same offset param as last step\n",
    "\n",
    "offset = 10**-4 # approx 10m\n",
    "\n",
    "slp = SnapLinePoint(crashes_gdf, vol_gdf, offset)"
   ]
  },
  {
   "cell_type": "code",
   "execution_count": 17,
   "id": "7af4a1a8",
   "metadata": {},
   "outputs": [
    {
     "data": {
      "text/plain": [
       "Index(['line_i', 'line_geo', 'STNAME_ORD', 'AWDT', 'ADT', 'AWDT_ROUNDED',\n",
       "       'SHAPE_Length', 'REPORT NUMBER', 'PRIMARY TRAFFICWAY',\n",
       "       'INTERSECTING TRAFFICWAY', 'DATETIME', 'is_dry', 'is_light', 'is_clear',\n",
       "       'is_hit_run', 'is_workzone', 'is_child', 'impaired', 'speeding',\n",
       "       'driver_16_25', 'driver_65_plus', 'severity', 'point', 'snap_dist',\n",
       "       'geometry'],\n",
       "      dtype='object')"
      ]
     },
     "execution_count": 17,
     "metadata": {},
     "output_type": "execute_result"
    }
   ],
   "source": [
    "vol_merged = slp.snap_to_line()\n",
    "\n",
    "vol_merged.columns"
   ]
  },
  {
   "cell_type": "code",
   "execution_count": 18,
   "id": "fd8f2df3",
   "metadata": {},
   "outputs": [
    {
     "name": "stdout",
     "output_type": "stream",
     "text": [
      "crashes_merged[REPORT NUMBER].shape:  (1320,)\n",
      "vol_merged.shape:  (1169, 25)\n"
     ]
    }
   ],
   "source": [
    "# Some coordinates are dropped because they were not present in volume data- revisit SLP class to keep coordinates? TODO\n",
    "\n",
    "\n",
    "print('crashes_merged[REPORT NUMBER].shape: ', crashes_merged['REPORT NUMBER'].shape)\n",
    "print('vol_merged.shape: ', vol_merged.shape)"
   ]
  },
  {
   "cell_type": "markdown",
   "id": "c27b3ab4",
   "metadata": {},
   "source": [
    "#### Step 3: Merge new volume data with crash/street data from previous step"
   ]
  },
  {
   "cell_type": "code",
   "execution_count": 19,
   "id": "ab1e000d",
   "metadata": {},
   "outputs": [],
   "source": [
    "select_cols = ['AWDT','ADT','AWDT_ROUNDED','REPORT NUMBER','vol_geo']\n",
    "\n",
    "vol_select = vol_merged.rename(columns={'line_geo':'vol_geo'})[select_cols]"
   ]
  },
  {
   "cell_type": "code",
   "execution_count": 20,
   "id": "0d2286d4",
   "metadata": {},
   "outputs": [
    {
     "data": {
      "text/html": [
       "<div>\n",
       "<style scoped>\n",
       "    .dataframe tbody tr th:only-of-type {\n",
       "        vertical-align: middle;\n",
       "    }\n",
       "\n",
       "    .dataframe tbody tr th {\n",
       "        vertical-align: top;\n",
       "    }\n",
       "\n",
       "    .dataframe thead th {\n",
       "        text-align: right;\n",
       "    }\n",
       "</style>\n",
       "<table border=\"1\" class=\"dataframe\">\n",
       "  <thead>\n",
       "    <tr style=\"text-align: right;\">\n",
       "      <th></th>\n",
       "      <th>AWDT</th>\n",
       "      <th>ADT</th>\n",
       "      <th>AWDT_ROUNDED</th>\n",
       "      <th>REPORT NUMBER</th>\n",
       "      <th>vol_geo</th>\n",
       "      <th>line_i</th>\n",
       "      <th>DATETIME</th>\n",
       "      <th>geometry</th>\n",
       "      <th>line_geo</th>\n",
       "      <th>SPEEDLIMIT</th>\n",
       "      <th>...</th>\n",
       "      <th>is_light</th>\n",
       "      <th>is_clear</th>\n",
       "      <th>is_hit_run</th>\n",
       "      <th>is_workzone</th>\n",
       "      <th>is_child</th>\n",
       "      <th>impaired</th>\n",
       "      <th>speeding</th>\n",
       "      <th>driver_16_25</th>\n",
       "      <th>driver_65_plus</th>\n",
       "      <th>severity</th>\n",
       "    </tr>\n",
       "  </thead>\n",
       "  <tbody>\n",
       "    <tr>\n",
       "      <th>0</th>\n",
       "      <td>6551.0</td>\n",
       "      <td>6058.0</td>\n",
       "      <td>6700</td>\n",
       "      <td>3773772</td>\n",
       "      <td>MULTILINESTRING ((-122.31811 47.60621, -122.31...</td>\n",
       "      <td>5040.0</td>\n",
       "      <td>2019-04-19 15:52:00</td>\n",
       "      <td>POINT (-122.3194157932671 47.60620717409615)</td>\n",
       "      <td>LINESTRING (-122.3194130473 47.60520171290543,...</td>\n",
       "      <td>20.0</td>\n",
       "      <td>...</td>\n",
       "      <td>1</td>\n",
       "      <td>0</td>\n",
       "      <td>0</td>\n",
       "      <td>0</td>\n",
       "      <td>0</td>\n",
       "      <td>0</td>\n",
       "      <td>0</td>\n",
       "      <td>0</td>\n",
       "      <td>0</td>\n",
       "      <td>3</td>\n",
       "    </tr>\n",
       "    <tr>\n",
       "      <th>1</th>\n",
       "      <td>11001.0</td>\n",
       "      <td>10581.0</td>\n",
       "      <td>11300</td>\n",
       "      <td>3773784</td>\n",
       "      <td>MULTILINESTRING ((-122.32023 47.62546, -122.32...</td>\n",
       "      <td>5053.0</td>\n",
       "      <td>2017-06-27 06:40:00</td>\n",
       "      <td>POINT (-122.320220950092 47.62656256721589)</td>\n",
       "      <td>LINESTRING (-122.320226408124 47.6254609770248...</td>\n",
       "      <td>25.0</td>\n",
       "      <td>...</td>\n",
       "      <td>1</td>\n",
       "      <td>0</td>\n",
       "      <td>0</td>\n",
       "      <td>0</td>\n",
       "      <td>0</td>\n",
       "      <td>0</td>\n",
       "      <td>0</td>\n",
       "      <td>0</td>\n",
       "      <td>0</td>\n",
       "      <td>3</td>\n",
       "    </tr>\n",
       "    <tr>\n",
       "      <th>2</th>\n",
       "      <td>18147.0</td>\n",
       "      <td>16962.0</td>\n",
       "      <td>18100</td>\n",
       "      <td>E779051</td>\n",
       "      <td>MULTILINESTRING ((-122.32007 47.63840, -122.32...</td>\n",
       "      <td>22.0</td>\n",
       "      <td>2018-03-10 23:00:00</td>\n",
       "      <td>POINT (-122.3200693522767 47.63866711037208)</td>\n",
       "      <td>LINESTRING (-122.3200712955947 47.638403224769...</td>\n",
       "      <td>25.0</td>\n",
       "      <td>...</td>\n",
       "      <td>0</td>\n",
       "      <td>0</td>\n",
       "      <td>1</td>\n",
       "      <td>0</td>\n",
       "      <td>0</td>\n",
       "      <td>0</td>\n",
       "      <td>0</td>\n",
       "      <td>0</td>\n",
       "      <td>0</td>\n",
       "      <td>3</td>\n",
       "    </tr>\n",
       "    <tr>\n",
       "      <th>3</th>\n",
       "      <td>13771.0</td>\n",
       "      <td>12966.0</td>\n",
       "      <td>13800</td>\n",
       "      <td>3773767</td>\n",
       "      <td>MULTILINESTRING ((-122.32021 47.62867, -122.32...</td>\n",
       "      <td>21776.0</td>\n",
       "      <td>2017-07-02 15:13:00</td>\n",
       "      <td>POINT (-122.3200853721749 47.6364851511106)</td>\n",
       "      <td>LINESTRING (-122.3200894771424 47.635912816973...</td>\n",
       "      <td>25.0</td>\n",
       "      <td>...</td>\n",
       "      <td>1</td>\n",
       "      <td>0</td>\n",
       "      <td>0</td>\n",
       "      <td>0</td>\n",
       "      <td>0</td>\n",
       "      <td>0</td>\n",
       "      <td>0</td>\n",
       "      <td>0</td>\n",
       "      <td>0</td>\n",
       "      <td>3</td>\n",
       "    </tr>\n",
       "    <tr>\n",
       "      <th>4</th>\n",
       "      <td>13771.0</td>\n",
       "      <td>12966.0</td>\n",
       "      <td>13800</td>\n",
       "      <td>3814426</td>\n",
       "      <td>MULTILINESTRING ((-122.32021 47.62867, -122.32...</td>\n",
       "      <td>14741.0</td>\n",
       "      <td>2018-10-23 21:24:00</td>\n",
       "      <td>POINT (-122.3200713729534 47.63839277947622)</td>\n",
       "      <td>LINESTRING (-122.3200798231693 47.637251797263...</td>\n",
       "      <td>25.0</td>\n",
       "      <td>...</td>\n",
       "      <td>0</td>\n",
       "      <td>0</td>\n",
       "      <td>0</td>\n",
       "      <td>0</td>\n",
       "      <td>0</td>\n",
       "      <td>0</td>\n",
       "      <td>0</td>\n",
       "      <td>0</td>\n",
       "      <td>0</td>\n",
       "      <td>2</td>\n",
       "    </tr>\n",
       "  </tbody>\n",
       "</table>\n",
       "<p>5 rows × 27 columns</p>\n",
       "</div>"
      ],
      "text/plain": [
       "      AWDT      ADT  AWDT_ROUNDED REPORT NUMBER  \\\n",
       "0   6551.0   6058.0          6700       3773772   \n",
       "1  11001.0  10581.0         11300       3773784   \n",
       "2  18147.0  16962.0         18100       E779051   \n",
       "3  13771.0  12966.0         13800       3773767   \n",
       "4  13771.0  12966.0         13800       3814426   \n",
       "\n",
       "                                             vol_geo   line_i  \\\n",
       "0  MULTILINESTRING ((-122.31811 47.60621, -122.31...   5040.0   \n",
       "1  MULTILINESTRING ((-122.32023 47.62546, -122.32...   5053.0   \n",
       "2  MULTILINESTRING ((-122.32007 47.63840, -122.32...     22.0   \n",
       "3  MULTILINESTRING ((-122.32021 47.62867, -122.32...  21776.0   \n",
       "4  MULTILINESTRING ((-122.32021 47.62867, -122.32...  14741.0   \n",
       "\n",
       "             DATETIME                                      geometry  \\\n",
       "0 2019-04-19 15:52:00  POINT (-122.3194157932671 47.60620717409615)   \n",
       "1 2017-06-27 06:40:00   POINT (-122.320220950092 47.62656256721589)   \n",
       "2 2018-03-10 23:00:00  POINT (-122.3200693522767 47.63866711037208)   \n",
       "3 2017-07-02 15:13:00   POINT (-122.3200853721749 47.6364851511106)   \n",
       "4 2018-10-23 21:24:00  POINT (-122.3200713729534 47.63839277947622)   \n",
       "\n",
       "                                            line_geo  SPEEDLIMIT  ...  \\\n",
       "0  LINESTRING (-122.3194130473 47.60520171290543,...        20.0  ...   \n",
       "1  LINESTRING (-122.320226408124 47.6254609770248...        25.0  ...   \n",
       "2  LINESTRING (-122.3200712955947 47.638403224769...        25.0  ...   \n",
       "3  LINESTRING (-122.3200894771424 47.635912816973...        25.0  ...   \n",
       "4  LINESTRING (-122.3200798231693 47.637251797263...        25.0  ...   \n",
       "\n",
       "   is_light  is_clear  is_hit_run  is_workzone  is_child  impaired  speeding  \\\n",
       "0         1         0           0            0         0         0         0   \n",
       "1         1         0           0            0         0         0         0   \n",
       "2         0         0           1            0         0         0         0   \n",
       "3         1         0           0            0         0         0         0   \n",
       "4         0         0           0            0         0         0         0   \n",
       "\n",
       "   driver_16_25  driver_65_plus  severity  \n",
       "0             0               0         3  \n",
       "1             0               0         3  \n",
       "2             0               0         3  \n",
       "3             0               0         3  \n",
       "4             0               0         2  \n",
       "\n",
       "[5 rows x 27 columns]"
      ]
     },
     "execution_count": 20,
     "metadata": {},
     "output_type": "execute_result"
    }
   ],
   "source": [
    "gdf = vol_select.merge(crashes_merged, on='REPORT NUMBER')\n",
    "\n",
    "gdf.head()"
   ]
  },
  {
   "cell_type": "code",
   "execution_count": 21,
   "id": "8a36198c",
   "metadata": {},
   "outputs": [
    {
     "data": {
      "text/plain": [
       "Index(['AWDT', 'ADT', 'AWDT_ROUNDED', 'REPORT NUMBER', 'vol_geo', 'line_i',\n",
       "       'DATETIME', 'geometry', 'line_geo', 'SPEEDLIMIT', 'SURFACEWIDTH',\n",
       "       'one_way', 'is_steep', 'is_paved', 'is_hwy', 'is_bus', 'is_truck',\n",
       "       'is_light', 'is_clear', 'is_hit_run', 'is_workzone', 'is_child',\n",
       "       'impaired', 'speeding', 'driver_16_25', 'driver_65_plus', 'severity'],\n",
       "      dtype='object')"
      ]
     },
     "execution_count": 21,
     "metadata": {},
     "output_type": "execute_result"
    }
   ],
   "source": [
    "gdf.columns"
   ]
  },
  {
   "cell_type": "code",
   "execution_count": 22,
   "id": "21d3fcc2",
   "metadata": {},
   "outputs": [
    {
     "data": {
      "text/plain": [
       "(1169, 27)"
      ]
     },
     "execution_count": 22,
     "metadata": {},
     "output_type": "execute_result"
    }
   ],
   "source": [
    "# Verify shape\n",
    "\n",
    "gdf.shape"
   ]
  },
  {
   "cell_type": "code",
   "execution_count": 23,
   "id": "7b9453be",
   "metadata": {},
   "outputs": [],
   "source": [
    "# Write to csv\n",
    "\n",
    "gdf.to_csv('data/crash_streets_vol.csv', index=False)"
   ]
  }
 ],
 "metadata": {
  "kernelspec": {
   "display_name": "bikeindex",
   "language": "python",
   "name": "bikeindex"
  },
  "language_info": {
   "codemirror_mode": {
    "name": "ipython",
    "version": 3
   },
   "file_extension": ".py",
   "mimetype": "text/x-python",
   "name": "python",
   "nbconvert_exporter": "python",
   "pygments_lexer": "ipython3",
   "version": "3.8.5"
  }
 },
 "nbformat": 4,
 "nbformat_minor": 5
}

{
 "cells": [
  {
   "cell_type": "markdown",
   "id": "289c26a5",
   "metadata": {},
   "source": [
    "## Bike Index Seattle - Data Prep\n",
    "\n",
    "### Data cleaning for Seattle streets data, Pt2"
   ]
  },
  {
   "cell_type": "markdown",
   "id": "a70273de",
   "metadata": {},
   "source": [
    "[Traffic Volume Data](https://data.seattle.gov/Transportation/Traffic-Flow-Map-Volumes/38vd-gytv)\n",
    "\n",
    "\n",
    "\n",
    "[2016 Volume](https://data-seattlecitygis.opendata.arcgis.com/datasets/SeattleCityGIS::2016-traffic-flow-counts/about)\n",
    "[2016 Metadata](https://www.seattle.gov/Documents/Departments/SDOT/GIS/2016_Traffic_Flow_Counts_OD.pdf)\n",
    "\n",
    "[2017 Volume](https://data-seattlecitygis.opendata.arcgis.com/datasets/SeattleCityGIS::2017-traffic-flow-counts/about)\n",
    "[2017 Metadata](https://drive.google.com/file/d/1GEuTEN-oPdtu5zesU1XJKubNt2RX2Lwj/view)\n",
    "\n",
    "[2018 Volume](https://data-seattlecitygis.opendata.arcgis.com/datasets/SeattleCityGIS::2018-traffic-flow-counts/about)\n",
    "[2018 Metadata](https://drive.google.com/file/d/1H-ooaihoawm8zXjZz_-AhBmwyRiT1FWQ/view)"
   ]
  },
  {
   "cell_type": "code",
   "execution_count": null,
   "id": "9b371b51",
   "metadata": {},
   "outputs": [],
   "source": []
  },
  {
   "cell_type": "markdown",
   "id": "288d419a",
   "metadata": {},
   "source": [
    "No volume data availability for 2019-2020. Will take avg. of the 3 years available as proxy? Use rolling avg?"
   ]
  },
  {
   "cell_type": "code",
   "execution_count": null,
   "id": "586a2d4b",
   "metadata": {},
   "outputs": [],
   "source": []
  },
  {
   "cell_type": "code",
   "execution_count": 27,
   "id": "76687e60",
   "metadata": {},
   "outputs": [],
   "source": [
    "import pandas as pd\n",
    "import numpy as np\n",
    "\n",
    "import geopandas as gpd\n",
    "\n",
    "import requests\n",
    "import json\n",
    "\n",
    "import matplotlib.pyplot as plt"
   ]
  },
  {
   "cell_type": "code",
   "execution_count": 3,
   "id": "2c5bdb08",
   "metadata": {},
   "outputs": [],
   "source": [
    "%matplotlib inline"
   ]
  },
  {
   "cell_type": "code",
   "execution_count": 4,
   "id": "9a71150b",
   "metadata": {},
   "outputs": [],
   "source": [
    "crashes_merged = pd.read_csv('data/crash_streets.csv', parse_dates=['DATETIME'])"
   ]
  },
  {
   "cell_type": "code",
   "execution_count": 5,
   "id": "c012428c",
   "metadata": {},
   "outputs": [
    {
     "data": {
      "text/plain": [
       "<AxesSubplot:xlabel='DATETIME'>"
      ]
     },
     "execution_count": 5,
     "metadata": {},
     "output_type": "execute_result"
    },
    {
     "data": {
      "image/png": "[encoded data removed]",
      "text/plain": [
       "<Figure size 432x288 with 1 Axes>"
      ]
     },
     "metadata": {
      "needs_background": "light"
     },
     "output_type": "display_data"
    }
   ],
   "source": [
    "crashes_merged['line_i'].groupby(crashes_merged.DATETIME.dt.year).count().plot(kind='bar')"
   ]
  },
  {
   "cell_type": "code",
   "execution_count": 15,
   "id": "fcda9a97",
   "metadata": {},
   "outputs": [],
   "source": [
    "#url = 'https://data.seattle.gov/resource/38vd-gytv.json'\n",
    "\n",
    "#r = requests.get(url)"
   ]
  },
  {
   "cell_type": "code",
   "execution_count": 30,
   "id": "e3464e99",
   "metadata": {},
   "outputs": [],
   "source": [
    "def get_gdf(url):\n",
    "    \n",
    "    r = requests.get(url)\n",
    "    json = r.json()\n",
    "    \n",
    "    return gpd.GeoDataFrame.from_features(json['features'])"
   ]
  },
  {
   "cell_type": "code",
   "execution_count": 17,
   "id": "df5565b0",
   "metadata": {},
   "outputs": [],
   "source": [
    "url_2016 = 'https://opendata.arcgis.com/datasets/170b764c52f34c9497720c0463f3b58b_9.geojson'\n",
    "url_2017 = 'https://opendata.arcgis.com/datasets/2c37babc94d64bbb938a9b520bc5538c_10.geojson'\n",
    "url_2018 = 'https://opendata.arcgis.com/datasets/a35aa9249110472ba2c69cc574eff984_11.geojson'"
   ]
  },
  {
   "cell_type": "code",
   "execution_count": 80,
   "id": "f8c25fab",
   "metadata": {},
   "outputs": [],
   "source": [
    "vol_2016 = get_gdf(url_2016)\n",
    "vol_2017 = get_gdf(url_2017)\n",
    "vol_2018 = get_gdf(url_2018)"
   ]
  },
  {
   "cell_type": "code",
   "execution_count": 81,
   "id": "0eedfc74",
   "metadata": {},
   "outputs": [
    {
     "data": {
      "text/plain": [
       "Index(['geometry', 'OBJECTID', 'COUNT_COMPKEY', 'FIRST_STNAME_ORD',\n",
       "       'FIRST_ARTDESCRIPT', 'FIRST_TRANDESCRIPT', 'COUNTFLAG', 'FLOWSEGID',\n",
       "       'DOWNTOWN', 'COUNTSTART', 'COUNTAADT', 'COUNTAAWDT', 'ESTIMATE',\n",
       "       'AWDT_ROUND', 'SHAPE_Length'],\n",
       "      dtype='object')"
      ]
     },
     "execution_count": 81,
     "metadata": {},
     "output_type": "execute_result"
    }
   ],
   "source": [
    "vol_2016.columns"
   ]
  },
  {
   "cell_type": "code",
   "execution_count": 82,
   "id": "f7a5cebb",
   "metadata": {},
   "outputs": [
    {
     "data": {
      "text/plain": [
       "Index(['geometry', 'OBJECTID', 'COMPKEY', 'STNAME_ORD', 'FLOWSEGID',\n",
       "       'DOWNTOWN', 'START_DATE', 'AMPK', 'PMPK', 'AWDT', 'ADT', 'AWDT_ROUNDED',\n",
       "       'DATAQUALITY', 'FLAGS', 'SHAPE_Length'],\n",
       "      dtype='object')"
      ]
     },
     "execution_count": 82,
     "metadata": {},
     "output_type": "execute_result"
    }
   ],
   "source": [
    "vol_2017.columns"
   ]
  },
  {
   "cell_type": "code",
   "execution_count": 83,
   "id": "c0c875c2",
   "metadata": {},
   "outputs": [
    {
     "data": {
      "text/plain": [
       "Index(['geometry', 'OBJECTID', 'COMPKEY', 'STNAME_ORD', 'FLOWSEGID',\n",
       "       'DOWNTOWN', 'START_DATE', 'AMPK', 'PMPK', 'AWDT', 'ADT', 'AWDT_ROUNDED',\n",
       "       'DATAQUALITY', 'FLAGS', 'SHAPE_Length'],\n",
       "      dtype='object')"
      ]
     },
     "execution_count": 83,
     "metadata": {},
     "output_type": "execute_result"
    }
   ],
   "source": [
    "vol_2018.columns"
   ]
  },
  {
   "cell_type": "code",
   "execution_count": 84,
   "id": "d599a3ae",
   "metadata": {},
   "outputs": [],
   "source": [
    "vol_2016 = vol_2016.rename(columns = {'COUNTAADT':'ADT_2016', 'COUNTAAWDT':'AWDT_2016'})"
   ]
  },
  {
   "cell_type": "code",
   "execution_count": 85,
   "id": "ee1fe04b",
   "metadata": {},
   "outputs": [],
   "source": [
    "gdf = vol_2016.merge(vol_2017.rename(columns = {'ADT':'ADT_2017',\n",
    "                                               'AWDT':'AWDT_2017'})[['FLOWSEGID','ADT_2017','AWDT_2017']])\n",
    "gdf = gdf.merge(vol_2018.rename(columns = {'ADT':'ADT_2018',\n",
    "                                          'AWDT':'AWDT_2018'})[['FLOWSEGID', 'ADT_2018','AWDT_2018']])"
   ]
  },
  {
   "cell_type": "code",
   "execution_count": 86,
   "id": "5d5896fd",
   "metadata": {},
   "outputs": [
    {
     "data": {
      "text/plain": [
       "Index(['geometry', 'OBJECTID', 'COUNT_COMPKEY', 'FIRST_STNAME_ORD',\n",
       "       'FIRST_ARTDESCRIPT', 'FIRST_TRANDESCRIPT', 'COUNTFLAG', 'FLOWSEGID',\n",
       "       'DOWNTOWN', 'COUNTSTART', 'ADT_2016', 'AWDT_2016', 'ESTIMATE',\n",
       "       'AWDT_ROUND', 'SHAPE_Length', 'ADT_2017', 'AWDT_2017', 'ADT_2018',\n",
       "       'AWDT_2018'],\n",
       "      dtype='object')"
      ]
     },
     "execution_count": 86,
     "metadata": {},
     "output_type": "execute_result"
    }
   ],
   "source": [
    "gdf.columns"
   ]
  },
  {
   "cell_type": "code",
   "execution_count": 98,
   "id": "68eae7c2",
   "metadata": {},
   "outputs": [
    {
     "data": {
      "text/plain": [
       "<AxesSubplot:>"
      ]
     },
     "execution_count": 98,
     "metadata": {},
     "output_type": "execute_result"
    },
    {
     "data": {
      "image/png": "[encoded data removed]",
      "text/plain": [
       "<Figure size 432x288 with 1 Axes>"
      ]
     },
     "metadata": {
      "needs_background": "light"
     },
     "output_type": "display_data"
    }
   ],
   "source": [
    "check_ix = np.random.randint(len(gdf)-1, size=5)\n",
    "\n",
    "cols = ['ADT_2016','AWDT_2016','ADT_2017','AWDT_2017','ADT_2018','AWDT_2018']\n",
    "\n",
    "gdf.iloc[check_ix][cols].plot(kind='bar')"
   ]
  },
  {
   "cell_type": "code",
   "execution_count": 99,
   "id": "0446dda4",
   "metadata": {},
   "outputs": [],
   "source": [
    "adt_cols = ['ADT_2016','ADT_2017','ADT_2018']\n",
    "awdt_cols = ['AWDT_2016','AWDT_2017','AWDT_2018']"
   ]
  },
  {
   "cell_type": "code",
   "execution_count": 109,
   "id": "1c8b1e57",
   "metadata": {},
   "outputs": [
    {
     "data": {
      "text/plain": [
       "0        5508.944333\n",
       "1       27080.945000\n",
       "2           0.000000\n",
       "3        3622.894667\n",
       "4       46875.028445\n",
       "            ...     \n",
       "1832    43529.948667\n",
       "1833    10823.000000\n",
       "1834     1274.886000\n",
       "1835    18361.068667\n",
       "1836             NaN\n",
       "Length: 1837, dtype: float64"
      ]
     },
     "execution_count": 109,
     "metadata": {},
     "output_type": "execute_result"
    }
   ],
   "source": [
    "np.mean(gdf[adt_cols], axis=1)"
   ]
  },
  {
   "cell_type": "code",
   "execution_count": 110,
   "id": "ef46981c",
   "metadata": {},
   "outputs": [
    {
     "data": {
      "text/plain": [
       "0        6829.834667\n",
       "1       28793.130667\n",
       "2       23393.888000\n",
       "3        4421.975667\n",
       "4       50036.009802\n",
       "            ...     \n",
       "1832    49880.071667\n",
       "1833    12220.000000\n",
       "1834     1518.143000\n",
       "1835    19776.093000\n",
       "1836    19500.000000\n",
       "Length: 1837, dtype: float64"
      ]
     },
     "execution_count": 110,
     "metadata": {},
     "output_type": "execute_result"
    }
   ],
   "source": [
    "np.mean(gdf[awdt_cols], axis=1)"
   ]
  },
  {
   "cell_type": "code",
   "execution_count": 12,
   "id": "cfdc10d8",
   "metadata": {},
   "outputs": [
    {
     "data": {
      "text/plain": [
       "dict_keys(['type', 'name', 'crs', 'features'])"
      ]
     },
     "execution_count": 12,
     "metadata": {},
     "output_type": "execute_result"
    }
   ],
   "source": [
    "vol_2016 = r_2016.json()\n",
    "\n",
    "vol_2016.keys()"
   ]
  },
  {
   "cell_type": "code",
   "execution_count": 14,
   "id": "cda1a51a",
   "metadata": {},
   "outputs": [
    {
     "data": {
      "text/plain": [
       "{'type': 'Feature',\n",
       " 'properties': {'OBJECTID': 1,\n",
       "  'COUNT_COMPKEY': None,\n",
       "  'FIRST_STNAME_ORD': 'S SPOKANE ST',\n",
       "  'FIRST_ARTDESCRIPT': None,\n",
       "  'FIRST_TRANDESCRIPT': None,\n",
       "  'COUNTFLAG': 'Y',\n",
       "  'FLOWSEGID': 2019,\n",
       "  'DOWNTOWN': 'N',\n",
       "  'COUNTSTART': '2015-04-03T00:00:00Z',\n",
       "  'COUNTAADT': 5508.833,\n",
       "  'COUNTAAWDT': 6829.504,\n",
       "  'ESTIMATE': None,\n",
       "  'AWDT_ROUND': 6800,\n",
       "  'SHAPE_Length': 1118.471354555498},\n",
       " 'geometry': {'type': 'LineString',\n",
       "  'coordinates': [[-122.33968006811952, 47.57170032667249],\n",
       "   [-122.340381034581, 47.57167285690613],\n",
       "   [-122.34201596676822, 47.571608767643994],\n",
       "   [-122.34250180837996, 47.57159246219214],\n",
       "   [-122.34343338437787, 47.57157904015345],\n",
       "   [-122.34420594883082, 47.571562900713126]]}}"
      ]
     },
     "execution_count": 14,
     "metadata": {},
     "output_type": "execute_result"
    }
   ],
   "source": [
    "vol_2016['features'][0]"
   ]
  },
  {
   "cell_type": "code",
   "execution_count": null,
   "id": "7f532e25",
   "metadata": {},
   "outputs": [],
   "source": []
  },
  {
   "cell_type": "code",
   "execution_count": null,
   "id": "25335c75",
   "metadata": {},
   "outputs": [],
   "source": []
  }
 ],
 "metadata": {
  "kernelspec": {
   "display_name": "bikeindex",
   "language": "python",
   "name": "bikeindex"
  },
  "language_info": {
   "codemirror_mode": {
    "name": "ipython",
    "version": 3
   },
   "file_extension": ".py",
   "mimetype": "text/x-python",
   "name": "python",
   "nbconvert_exporter": "python",
   "pygments_lexer": "ipython3",
   "version": "3.8.5"
  }
 },
 "nbformat": 4,
 "nbformat_minor": 5
}

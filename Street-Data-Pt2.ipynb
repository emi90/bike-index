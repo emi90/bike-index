{
 "cells": [
  {
   "cell_type": "markdown",
   "id": "289c26a5",
   "metadata": {},
   "source": [
    "## Bike Index Seattle - Data Prep\n",
    "\n",
    "### Data cleaning for Seattle streets data, Pt2"
   ]
  },
  {
   "cell_type": "markdown",
   "id": "a70273de",
   "metadata": {},
   "source": [
    "[Traffic Volume Data](https://data.seattle.gov/Transportation/Traffic-Flow-Map-Volumes/38vd-gytv)\n",
    "\n",
    "\n",
    "\n",
    "[2016 Volume](https://data-seattlecitygis.opendata.arcgis.com/datasets/SeattleCityGIS::2016-traffic-flow-counts/about)\n",
    "[2016 Metadata](https://www.seattle.gov/Documents/Departments/SDOT/GIS/2016_Traffic_Flow_Counts_OD.pdf)\n",
    "\n",
    "[2017 Volume](https://data-seattlecitygis.opendata.arcgis.com/datasets/SeattleCityGIS::2017-traffic-flow-counts/about)\n",
    "[2017 Metadata](https://drive.google.com/file/d/1GEuTEN-oPdtu5zesU1XJKubNt2RX2Lwj/view)\n",
    "\n",
    "[2018 Volume](https://data-seattlecitygis.opendata.arcgis.com/datasets/SeattleCityGIS::2018-traffic-flow-counts/about)\n",
    "[2018 Metadata](https://drive.google.com/file/d/1H-ooaihoawm8zXjZz_-AhBmwyRiT1FWQ/view)"
   ]
  },
  {
   "cell_type": "markdown",
   "id": "4813428a",
   "metadata": {},
   "source": [
    "Use 2018 Volume data as proxy-\n",
    "\n",
    "- No data available for 2019-2020\n",
    "    - Could take volume for location given year, but cannot compute for later periods\n",
    "- Latest available volume data\n",
    "- Earlier volume data (2016, 2017) has incomplete street segments"
   ]
  },
  {
   "cell_type": "code",
   "execution_count": 1,
   "id": "76687e60",
   "metadata": {},
   "outputs": [],
   "source": [
    "import pandas as pd\n",
    "import numpy as np\n",
    "\n",
    "import geopandas as gpd\n",
    "from shapely.geometry import Point, LineString\n",
    "\n",
    "import requests\n",
    "import json\n",
    "\n",
    "import matplotlib.pyplot as plt\n",
    "\n",
    "from point_line_snap import SnapLinePoint"
   ]
  },
  {
   "cell_type": "code",
   "execution_count": 2,
   "id": "2c5bdb08",
   "metadata": {},
   "outputs": [],
   "source": [
    "%matplotlib inline"
   ]
  },
  {
   "cell_type": "code",
   "execution_count": 3,
   "id": "9a71150b",
   "metadata": {},
   "outputs": [],
   "source": [
    "# From Streets Prep\n",
    "\n",
    "crashes_merged = pd.read_csv('data/crash_streets.csv', parse_dates=['DATETIME'])"
   ]
  },
  {
   "cell_type": "code",
   "execution_count": 4,
   "id": "f3272ce0",
   "metadata": {},
   "outputs": [],
   "source": [
    "# From Crash Data Prep\n",
    "\n",
    "crashes = pd.read_csv('data/bike_crash.csv', parse_dates=['DATETIME'])"
   ]
  },
  {
   "cell_type": "code",
   "execution_count": 5,
   "id": "c012428c",
   "metadata": {},
   "outputs": [
    {
     "data": {
      "text/plain": [
       "<AxesSubplot:xlabel='DATETIME'>"
      ]
     },
     "execution_count": 5,
     "metadata": {},
     "output_type": "execute_result"
    },
    {
     "data": {
      "image/png": "[encoded data removed]",
      "text/plain": [
       "<Figure size 432x288 with 1 Axes>"
      ]
     },
     "metadata": {
      "needs_background": "light"
     },
     "output_type": "display_data"
    }
   ],
   "source": [
    "# Distribution of crashes by year- what vehicle volume data to use?\n",
    "\n",
    "crashes_merged['line_i'].groupby(crashes_merged.DATETIME.dt.year).count().plot(kind='bar')"
   ]
  },
  {
   "cell_type": "code",
   "execution_count": 6,
   "id": "fcda9a97",
   "metadata": {},
   "outputs": [],
   "source": [
    "#url = 'https://data.seattle.gov/resource/38vd-gytv.json'\n",
    "\n",
    "#r = requests.get(url)"
   ]
  },
  {
   "cell_type": "code",
   "execution_count": 6,
   "id": "42846e71",
   "metadata": {},
   "outputs": [],
   "source": [
    "# Helper function\n",
    "\n",
    "def get_gdf(url):\n",
    "    \n",
    "    r = requests.get(url)\n",
    "    json = r.json()\n",
    "    \n",
    "    return gpd.GeoDataFrame.from_features(json['features'])"
   ]
  },
  {
   "cell_type": "code",
   "execution_count": 7,
   "id": "18d92888",
   "metadata": {},
   "outputs": [],
   "source": [
    "# No volume data for 2019 or 2020 available as of Jul 2021\n",
    "\n",
    "url_2016 = 'https://opendata.arcgis.com/datasets/170b764c52f34c9497720c0463f3b58b_9.geojson'\n",
    "url_2017 = 'https://opendata.arcgis.com/datasets/2c37babc94d64bbb938a9b520bc5538c_10.geojson'\n",
    "url_2018 = 'https://opendata.arcgis.com/datasets/a35aa9249110472ba2c69cc574eff984_11.geojson'\n"
   ]
  },
  {
   "cell_type": "code",
   "execution_count": 8,
   "id": "49e9ae5b",
   "metadata": {},
   "outputs": [],
   "source": [
    "vol_2016 = get_gdf(url_2016)\n",
    "vol_2017 = get_gdf(url_2017)\n",
    "vol_2018 = get_gdf(url_2018)"
   ]
  },
  {
   "cell_type": "code",
   "execution_count": 9,
   "id": "84dc5dd6",
   "metadata": {},
   "outputs": [
    {
     "data": {
      "text/html": [
       "<div>\n",
       "<style scoped>\n",
       "    .dataframe tbody tr th:only-of-type {\n",
       "        vertical-align: middle;\n",
       "    }\n",
       "\n",
       "    .dataframe tbody tr th {\n",
       "        vertical-align: top;\n",
       "    }\n",
       "\n",
       "    .dataframe thead th {\n",
       "        text-align: right;\n",
       "    }\n",
       "</style>\n",
       "<table border=\"1\" class=\"dataframe\">\n",
       "  <thead>\n",
       "    <tr style=\"text-align: right;\">\n",
       "      <th></th>\n",
       "      <th>OBJECTID</th>\n",
       "      <th>FLOWSEGID</th>\n",
       "      <th>COUNTAADT</th>\n",
       "      <th>COUNTAAWDT</th>\n",
       "      <th>AWDT_ROUND</th>\n",
       "      <th>SHAPE_Length</th>\n",
       "    </tr>\n",
       "  </thead>\n",
       "  <tbody>\n",
       "    <tr>\n",
       "      <th>count</th>\n",
       "      <td>1865.000000</td>\n",
       "      <td>1864.000000</td>\n",
       "      <td>595.000000</td>\n",
       "      <td>1865.000000</td>\n",
       "      <td>1860.000000</td>\n",
       "      <td>1865.000000</td>\n",
       "    </tr>\n",
       "    <tr>\n",
       "      <th>mean</th>\n",
       "      <td>933.000000</td>\n",
       "      <td>1030.725858</td>\n",
       "      <td>12330.279216</td>\n",
       "      <td>12179.238152</td>\n",
       "      <td>12211.021505</td>\n",
       "      <td>1337.320872</td>\n",
       "    </tr>\n",
       "    <tr>\n",
       "      <th>std</th>\n",
       "      <td>538.523444</td>\n",
       "      <td>586.007948</td>\n",
       "      <td>10519.492108</td>\n",
       "      <td>9913.343071</td>\n",
       "      <td>9908.481814</td>\n",
       "      <td>1381.144172</td>\n",
       "    </tr>\n",
       "    <tr>\n",
       "      <th>min</th>\n",
       "      <td>1.000000</td>\n",
       "      <td>3.000000</td>\n",
       "      <td>0.000000</td>\n",
       "      <td>400.000000</td>\n",
       "      <td>600.000000</td>\n",
       "      <td>48.541264</td>\n",
       "    </tr>\n",
       "    <tr>\n",
       "      <th>25%</th>\n",
       "      <td>467.000000</td>\n",
       "      <td>538.750000</td>\n",
       "      <td>5614.759886</td>\n",
       "      <td>5500.000000</td>\n",
       "      <td>5500.000000</td>\n",
       "      <td>364.837266</td>\n",
       "    </tr>\n",
       "    <tr>\n",
       "      <th>50%</th>\n",
       "      <td>933.000000</td>\n",
       "      <td>1020.500000</td>\n",
       "      <td>9753.330064</td>\n",
       "      <td>9696.434239</td>\n",
       "      <td>9800.000000</td>\n",
       "      <td>835.403618</td>\n",
       "    </tr>\n",
       "    <tr>\n",
       "      <th>75%</th>\n",
       "      <td>1399.000000</td>\n",
       "      <td>1537.250000</td>\n",
       "      <td>16225.992849</td>\n",
       "      <td>16000.000000</td>\n",
       "      <td>16000.000000</td>\n",
       "      <td>1796.550094</td>\n",
       "    </tr>\n",
       "    <tr>\n",
       "      <th>max</th>\n",
       "      <td>1865.000000</td>\n",
       "      <td>4493.000000</td>\n",
       "      <td>102554.862657</td>\n",
       "      <td>108178.569998</td>\n",
       "      <td>108200.000000</td>\n",
       "      <td>13076.444950</td>\n",
       "    </tr>\n",
       "  </tbody>\n",
       "</table>\n",
       "</div>"
      ],
      "text/plain": [
       "          OBJECTID    FLOWSEGID      COUNTAADT     COUNTAAWDT     AWDT_ROUND  \\\n",
       "count  1865.000000  1864.000000     595.000000    1865.000000    1860.000000   \n",
       "mean    933.000000  1030.725858   12330.279216   12179.238152   12211.021505   \n",
       "std     538.523444   586.007948   10519.492108    9913.343071    9908.481814   \n",
       "min       1.000000     3.000000       0.000000     400.000000     600.000000   \n",
       "25%     467.000000   538.750000    5614.759886    5500.000000    5500.000000   \n",
       "50%     933.000000  1020.500000    9753.330064    9696.434239    9800.000000   \n",
       "75%    1399.000000  1537.250000   16225.992849   16000.000000   16000.000000   \n",
       "max    1865.000000  4493.000000  102554.862657  108178.569998  108200.000000   \n",
       "\n",
       "       SHAPE_Length  \n",
       "count   1865.000000  \n",
       "mean    1337.320872  \n",
       "std     1381.144172  \n",
       "min       48.541264  \n",
       "25%      364.837266  \n",
       "50%      835.403618  \n",
       "75%     1796.550094  \n",
       "max    13076.444950  "
      ]
     },
     "execution_count": 9,
     "metadata": {},
     "output_type": "execute_result"
    }
   ],
   "source": [
    "vol_2016.describe()"
   ]
  },
  {
   "cell_type": "code",
   "execution_count": 10,
   "id": "70308362",
   "metadata": {},
   "outputs": [
    {
     "data": {
      "text/plain": [
       "Index(['geometry', 'OBJECTID', 'COUNT_COMPKEY', 'FIRST_STNAME_ORD',\n",
       "       'FIRST_ARTDESCRIPT', 'FIRST_TRANDESCRIPT', 'COUNTFLAG', 'FLOWSEGID',\n",
       "       'DOWNTOWN', 'COUNTSTART', 'COUNTAADT', 'COUNTAAWDT', 'ESTIMATE',\n",
       "       'AWDT_ROUND', 'SHAPE_Length'],\n",
       "      dtype='object')"
      ]
     },
     "execution_count": 10,
     "metadata": {},
     "output_type": "execute_result"
    }
   ],
   "source": [
    "vol_2016.columns"
   ]
  },
  {
   "cell_type": "code",
   "execution_count": 11,
   "id": "1abbe231",
   "metadata": {},
   "outputs": [
    {
     "data": {
      "text/plain": [
       "Index(['geometry', 'OBJECTID', 'COMPKEY', 'STNAME_ORD', 'FLOWSEGID',\n",
       "       'DOWNTOWN', 'START_DATE', 'AMPK', 'PMPK', 'AWDT', 'ADT', 'AWDT_ROUNDED',\n",
       "       'DATAQUALITY', 'FLAGS', 'SHAPE_Length'],\n",
       "      dtype='object')"
      ]
     },
     "execution_count": 11,
     "metadata": {},
     "output_type": "execute_result"
    }
   ],
   "source": [
    "vol_2017.columns"
   ]
  },
  {
   "cell_type": "code",
   "execution_count": 12,
   "id": "6c709551",
   "metadata": {},
   "outputs": [
    {
     "data": {
      "text/plain": [
       "Index(['geometry', 'OBJECTID', 'COMPKEY', 'STNAME_ORD', 'FLOWSEGID',\n",
       "       'DOWNTOWN', 'START_DATE', 'AMPK', 'PMPK', 'AWDT', 'ADT', 'AWDT_ROUNDED',\n",
       "       'DATAQUALITY', 'FLAGS', 'SHAPE_Length'],\n",
       "      dtype='object')"
      ]
     },
     "execution_count": 12,
     "metadata": {},
     "output_type": "execute_result"
    }
   ],
   "source": [
    "vol_2018.columns"
   ]
  },
  {
   "cell_type": "code",
   "execution_count": 13,
   "id": "a14e1c17",
   "metadata": {},
   "outputs": [],
   "source": [
    "vol_2016 = vol_2016.rename(columns = {'COUNTAADT':'ADT_2016', 'COUNTAAWDT':'AWDT_2016'})"
   ]
  },
  {
   "cell_type": "code",
   "execution_count": 14,
   "id": "8b803c57",
   "metadata": {},
   "outputs": [],
   "source": [
    "gdf = vol_2016.merge(vol_2017.rename(columns = {'ADT':'ADT_2017',\n",
    "                                               'AWDT':'AWDT_2017'})[['FLOWSEGID',\n",
    "                                                                     'geometry',\n",
    "                                                                     'STNAME_ORD',\n",
    "                                                                     'ADT_2017',\n",
    "                                                                     'AWDT_2017']],\n",
    "                    how='outer', on ='FLOWSEGID')\n",
    "\n",
    "gdf = gdf.merge(vol_2018.rename(columns = {'ADT':'ADT_2018',\n",
    "                                          'AWDT':'AWDT_2018'})[['FLOWSEGID', \n",
    "                                                                'geometry',\n",
    "                                                                'STNAME_ORD',\n",
    "                                                                'ADT_2018',\n",
    "                                                                'AWDT_2018']],\n",
    "               how='outer', on='FLOWSEGID')"
   ]
  },
  {
   "cell_type": "code",
   "execution_count": 15,
   "id": "5e3e278f",
   "metadata": {},
   "outputs": [
    {
     "data": {
      "text/plain": [
       "Index(['geometry_x', 'OBJECTID', 'COUNT_COMPKEY', 'FIRST_STNAME_ORD',\n",
       "       'FIRST_ARTDESCRIPT', 'FIRST_TRANDESCRIPT', 'COUNTFLAG', 'FLOWSEGID',\n",
       "       'DOWNTOWN', 'COUNTSTART', 'ADT_2016', 'AWDT_2016', 'ESTIMATE',\n",
       "       'AWDT_ROUND', 'SHAPE_Length', 'geometry_y', 'STNAME_ORD_x', 'ADT_2017',\n",
       "       'AWDT_2017', 'geometry', 'STNAME_ORD_y', 'ADT_2018', 'AWDT_2018'],\n",
       "      dtype='object')"
      ]
     },
     "execution_count": 15,
     "metadata": {},
     "output_type": "execute_result"
    }
   ],
   "source": [
    "gdf.columns"
   ]
  },
  {
   "cell_type": "code",
   "execution_count": 16,
   "id": "c4d63283",
   "metadata": {},
   "outputs": [
    {
     "data": {
      "text/plain": [
       "<AxesSubplot:>"
      ]
     },
     "execution_count": 16,
     "metadata": {},
     "output_type": "execute_result"
    },
    {
     "data": {
      "image/png": "[encoded data removed]",
      "text/plain": [
       "<Figure size 432x288 with 1 Axes>"
      ]
     },
     "metadata": {
      "needs_background": "light"
     },
     "output_type": "display_data"
    }
   ],
   "source": [
    "check_ix = np.random.randint(len(gdf)-1, size=5)\n",
    "\n",
    "cols = ['ADT_2016','AWDT_2016','ADT_2017','AWDT_2017','ADT_2018','AWDT_2018']\n",
    "\n",
    "gdf.iloc[check_ix][cols].plot(kind='bar')"
   ]
  },
  {
   "cell_type": "code",
   "execution_count": 17,
   "id": "8c0f86f0",
   "metadata": {},
   "outputs": [
    {
     "name": "stdout",
     "output_type": "stream",
     "text": [
      "col:  ADT_2016 1341\n",
      "col:  AWDT_2016 71\n",
      "col:  ADT_2017 943\n",
      "col:  AWDT_2017 53\n",
      "col:  ADT_2018 506\n",
      "col:  AWDT_2018 25\n"
     ]
    }
   ],
   "source": [
    "for col in cols:\n",
    "    print('col: ', col, gdf[col].isna().sum())"
   ]
  },
  {
   "cell_type": "code",
   "execution_count": 18,
   "id": "dc6d16df",
   "metadata": {},
   "outputs": [],
   "source": [
    "adt_cols = ['ADT_2016','ADT_2017','ADT_2018']\n",
    "awdt_cols = ['AWDT_2016','AWDT_2017','AWDT_2018']"
   ]
  },
  {
   "cell_type": "code",
   "execution_count": 19,
   "id": "3ab1d927",
   "metadata": {},
   "outputs": [
    {
     "data": {
      "text/plain": [
       "0        5508.944333\n",
       "1       27080.945000\n",
       "2           0.000000\n",
       "3        3622.894667\n",
       "4       46875.028445\n",
       "            ...     \n",
       "1931      718.000000\n",
       "1932     1406.000000\n",
       "1933      902.000000\n",
       "1934     1915.000000\n",
       "1935     7779.000000\n",
       "Length: 1936, dtype: float64"
      ]
     },
     "execution_count": 19,
     "metadata": {},
     "output_type": "execute_result"
    }
   ],
   "source": [
    "np.mean(gdf[adt_cols], axis=1)"
   ]
  },
  {
   "cell_type": "code",
   "execution_count": 20,
   "id": "af62a7cc",
   "metadata": {},
   "outputs": [
    {
     "data": {
      "text/plain": [
       "0        6829.834667\n",
       "1       28793.130667\n",
       "2       23393.888000\n",
       "3        4421.975667\n",
       "4       50036.009802\n",
       "            ...     \n",
       "1931      917.000000\n",
       "1932     1453.000000\n",
       "1933      960.000000\n",
       "1934     1743.000000\n",
       "1935     7870.000000\n",
       "Length: 1936, dtype: float64"
      ]
     },
     "execution_count": 20,
     "metadata": {},
     "output_type": "execute_result"
    }
   ],
   "source": [
    "np.mean(gdf[awdt_cols], axis=1)"
   ]
  },
  {
   "cell_type": "code",
   "execution_count": 21,
   "id": "3e67ee03",
   "metadata": {},
   "outputs": [
    {
     "name": "stderr",
     "output_type": "stream",
     "text": [
      "<ipython-input-21-f02cd58b0b73>:1: RuntimeWarning: Mean of empty slice\n",
      "  adt_mean = np.nanmean(gdf[adt_cols], axis=1)\n"
     ]
    }
   ],
   "source": [
    "adt_mean = np.nanmean(gdf[adt_cols], axis=1)"
   ]
  },
  {
   "cell_type": "code",
   "execution_count": 22,
   "id": "da6c6fee",
   "metadata": {},
   "outputs": [],
   "source": [
    "awdt_mean = np.nanmean(gdf[awdt_cols], axis=1)"
   ]
  },
  {
   "cell_type": "code",
   "execution_count": 23,
   "id": "58c81a79",
   "metadata": {},
   "outputs": [],
   "source": [
    "gdf['adt_mean'] = adt_mean\n",
    "gdf['awdt_mean'] = awdt_mean"
   ]
  },
  {
   "cell_type": "code",
   "execution_count": 24,
   "id": "54a4e0fb",
   "metadata": {},
   "outputs": [],
   "source": [
    "# Use 2018 as proxy for all crashes\n",
    "# No data available for 2019, 2020\n",
    "# 2018 is more complete than 2017 or 2016\n",
    "\n",
    "\n",
    "volume = vol_2018"
   ]
  },
  {
   "cell_type": "code",
   "execution_count": 25,
   "id": "d6190aba",
   "metadata": {},
   "outputs": [
    {
     "data": {
      "text/plain": [
       "Index(['geometry', 'OBJECTID', 'COMPKEY', 'STNAME_ORD', 'FLOWSEGID',\n",
       "       'DOWNTOWN', 'START_DATE', 'AMPK', 'PMPK', 'AWDT', 'ADT', 'AWDT_ROUNDED',\n",
       "       'DATAQUALITY', 'FLAGS', 'SHAPE_Length'],\n",
       "      dtype='object')"
      ]
     },
     "execution_count": 25,
     "metadata": {},
     "output_type": "execute_result"
    }
   ],
   "source": [
    "volume.columns"
   ]
  },
  {
   "cell_type": "code",
   "execution_count": 26,
   "id": "9a121ea5",
   "metadata": {},
   "outputs": [],
   "source": [
    "keep_cols = ['geometry',\n",
    "            'STNAME_ORD',\n",
    "            'AWDT',\n",
    "            'ADT',\n",
    "            'AWDT_ROUNDED',\n",
    "            'SHAPE_Length']\n",
    "\n",
    "vol_gdf = gpd.GeoDataFrame(volume[keep_cols], geometry='geometry')"
   ]
  },
  {
   "cell_type": "code",
   "execution_count": 27,
   "id": "78a0ee1d",
   "metadata": {},
   "outputs": [],
   "source": [
    "geom = [Point(xy) for xy in zip(crashes.LONGITUDE, crashes.LATITUDE)]\n",
    "\n",
    "crashes_gdf = gpd.GeoDataFrame(crashes.drop(['LATITUDE','LONGITUDE'], axis = 1),\n",
    "                               geometry = geom)"
   ]
  },
  {
   "cell_type": "code",
   "execution_count": 28,
   "id": "bb9a9665",
   "metadata": {
    "scrolled": true
   },
   "outputs": [
    {
     "data": {
      "text/html": [
       "<div>\n",
       "<style scoped>\n",
       "    .dataframe tbody tr th:only-of-type {\n",
       "        vertical-align: middle;\n",
       "    }\n",
       "\n",
       "    .dataframe tbody tr th {\n",
       "        vertical-align: top;\n",
       "    }\n",
       "\n",
       "    .dataframe thead th {\n",
       "        text-align: right;\n",
       "    }\n",
       "</style>\n",
       "<table border=\"1\" class=\"dataframe\">\n",
       "  <thead>\n",
       "    <tr style=\"text-align: right;\">\n",
       "      <th></th>\n",
       "      <th>geometry</th>\n",
       "      <th>STNAME_ORD</th>\n",
       "      <th>AWDT</th>\n",
       "      <th>ADT</th>\n",
       "      <th>AWDT_ROUNDED</th>\n",
       "      <th>SHAPE_Length</th>\n",
       "    </tr>\n",
       "  </thead>\n",
       "  <tbody>\n",
       "    <tr>\n",
       "      <th>0</th>\n",
       "      <td>LINESTRING (-122.33315 47.61306, -122.33204 47...</td>\n",
       "      <td>PINE ST</td>\n",
       "      <td>8000.0</td>\n",
       "      <td>NaN</td>\n",
       "      <td>8000</td>\n",
       "      <td>322.037238</td>\n",
       "    </tr>\n",
       "    <tr>\n",
       "      <th>1</th>\n",
       "      <td>LINESTRING (-122.37523 47.65358, -122.37539 47...</td>\n",
       "      <td>15TH AVE W ON RP</td>\n",
       "      <td>11129.0</td>\n",
       "      <td>10139.0</td>\n",
       "      <td>11100</td>\n",
       "      <td>173.612269</td>\n",
       "    </tr>\n",
       "    <tr>\n",
       "      <th>2</th>\n",
       "      <td>MULTILINESTRING ((-122.30381 47.67578, -122.30...</td>\n",
       "      <td>NE 65TH ST</td>\n",
       "      <td>20487.0</td>\n",
       "      <td>19740.0</td>\n",
       "      <td>20500</td>\n",
       "      <td>1445.416389</td>\n",
       "    </tr>\n",
       "    <tr>\n",
       "      <th>3</th>\n",
       "      <td>MULTILINESTRING ((-122.41212 47.65410, -122.41...</td>\n",
       "      <td>W EMERSON ST</td>\n",
       "      <td>1007.0</td>\n",
       "      <td>1090.0</td>\n",
       "      <td>1000</td>\n",
       "      <td>999.190937</td>\n",
       "    </tr>\n",
       "    <tr>\n",
       "      <th>4</th>\n",
       "      <td>MULTILINESTRING ((-122.28080 47.52610, -122.28...</td>\n",
       "      <td>S CLOVERDALE ST</td>\n",
       "      <td>4868.0</td>\n",
       "      <td>4615.0</td>\n",
       "      <td>4900</td>\n",
       "      <td>2077.434844</td>\n",
       "    </tr>\n",
       "  </tbody>\n",
       "</table>\n",
       "</div>"
      ],
      "text/plain": [
       "                                            geometry        STNAME_ORD  \\\n",
       "0  LINESTRING (-122.33315 47.61306, -122.33204 47...           PINE ST   \n",
       "1  LINESTRING (-122.37523 47.65358, -122.37539 47...  15TH AVE W ON RP   \n",
       "2  MULTILINESTRING ((-122.30381 47.67578, -122.30...        NE 65TH ST   \n",
       "3  MULTILINESTRING ((-122.41212 47.65410, -122.41...      W EMERSON ST   \n",
       "4  MULTILINESTRING ((-122.28080 47.52610, -122.28...   S CLOVERDALE ST   \n",
       "\n",
       "      AWDT      ADT  AWDT_ROUNDED  SHAPE_Length  \n",
       "0   8000.0      NaN          8000    322.037238  \n",
       "1  11129.0  10139.0         11100    173.612269  \n",
       "2  20487.0  19740.0         20500   1445.416389  \n",
       "3   1007.0   1090.0          1000    999.190937  \n",
       "4   4868.0   4615.0          4900   2077.434844  "
      ]
     },
     "execution_count": 28,
     "metadata": {},
     "output_type": "execute_result"
    }
   ],
   "source": [
    "vol_gdf.head()"
   ]
  },
  {
   "cell_type": "code",
   "execution_count": null,
   "id": "812bbb64",
   "metadata": {},
   "outputs": [],
   "source": []
  },
  {
   "cell_type": "code",
   "execution_count": 29,
   "id": "ef6aec67",
   "metadata": {},
   "outputs": [],
   "source": [
    "offset = 10**-4\n",
    "\n",
    "slp = SnapLinePoint(crashes_gdf, vol_gdf, offset)"
   ]
  },
  {
   "cell_type": "code",
   "execution_count": 30,
   "id": "8fef0485",
   "metadata": {},
   "outputs": [],
   "source": [
    "vol_merged = slp.snap_to_line()"
   ]
  },
  {
   "cell_type": "code",
   "execution_count": 31,
   "id": "48c7a0af",
   "metadata": {},
   "outputs": [
    {
     "data": {
      "text/plain": [
       "Index(['line_i', 'line_geo', 'STNAME_ORD', 'AWDT', 'ADT', 'AWDT_ROUNDED',\n",
       "       'SHAPE_Length', 'REPORT NUMBER', 'PRIMARY TRAFFICWAY',\n",
       "       'INTERSECTING TRAFFICWAY', 'DATETIME', 'is_dry', 'is_light', 'is_clear',\n",
       "       'is_hit_run', 'is_workzone', 'is_child', 'impaired', 'speeding',\n",
       "       'driver_16_25', 'driver_65_plus', 'severity', 'point', 'snap_dist',\n",
       "       'geometry'],\n",
       "      dtype='object')"
      ]
     },
     "execution_count": 31,
     "metadata": {},
     "output_type": "execute_result"
    }
   ],
   "source": [
    "vol_merged.columns"
   ]
  },
  {
   "cell_type": "code",
   "execution_count": 37,
   "id": "288ef22e",
   "metadata": {},
   "outputs": [
    {
     "data": {
      "text/plain": [
       "(1320,)"
      ]
     },
     "execution_count": 37,
     "metadata": {},
     "output_type": "execute_result"
    }
   ],
   "source": [
    "crashes_merged['REPORT NUMBER'].shape"
   ]
  },
  {
   "cell_type": "code",
   "execution_count": 38,
   "id": "07465a48",
   "metadata": {},
   "outputs": [
    {
     "data": {
      "text/plain": [
       "(1169, 25)"
      ]
     },
     "execution_count": 38,
     "metadata": {},
     "output_type": "execute_result"
    }
   ],
   "source": [
    "vol_merged.shape"
   ]
  },
  {
   "cell_type": "code",
   "execution_count": 42,
   "id": "ae8e4272",
   "metadata": {},
   "outputs": [
    {
     "data": {
      "text/plain": [
       "Index(['line_i', 'line_geo', 'STNAME_ORD', 'AWDT', 'ADT', 'AWDT_ROUNDED',\n",
       "       'SHAPE_Length', 'REPORT NUMBER', 'PRIMARY TRAFFICWAY',\n",
       "       'INTERSECTING TRAFFICWAY', 'DATETIME', 'is_dry', 'is_light', 'is_clear',\n",
       "       'is_hit_run', 'is_workzone', 'is_child', 'impaired', 'speeding',\n",
       "       'driver_16_25', 'driver_65_plus', 'severity', 'point', 'snap_dist',\n",
       "       'geometry'],\n",
       "      dtype='object')"
      ]
     },
     "execution_count": 42,
     "metadata": {},
     "output_type": "execute_result"
    }
   ],
   "source": [
    "vol_merged.columns"
   ]
  },
  {
   "cell_type": "code",
   "execution_count": 46,
   "id": "9a3dfefc",
   "metadata": {},
   "outputs": [],
   "source": [
    "select_cols = ['AWDT','ADT','AWDT_ROUNDED','REPORT NUMBER','vol_geo']\n",
    "\n",
    "vol_select = vol_merged.rename(columns={'line_geo':'vol_geo'})[select_cols]"
   ]
  },
  {
   "cell_type": "code",
   "execution_count": 47,
   "id": "d7c52e2f",
   "metadata": {},
   "outputs": [],
   "source": [
    "gdf = vol_select.merge(crashes_merged, on='REPORT NUMBER')"
   ]
  },
  {
   "cell_type": "code",
   "execution_count": 48,
   "id": "6da9d141",
   "metadata": {},
   "outputs": [
    {
     "data": {
      "text/html": [
       "<div>\n",
       "<style scoped>\n",
       "    .dataframe tbody tr th:only-of-type {\n",
       "        vertical-align: middle;\n",
       "    }\n",
       "\n",
       "    .dataframe tbody tr th {\n",
       "        vertical-align: top;\n",
       "    }\n",
       "\n",
       "    .dataframe thead th {\n",
       "        text-align: right;\n",
       "    }\n",
       "</style>\n",
       "<table border=\"1\" class=\"dataframe\">\n",
       "  <thead>\n",
       "    <tr style=\"text-align: right;\">\n",
       "      <th></th>\n",
       "      <th>AWDT</th>\n",
       "      <th>ADT</th>\n",
       "      <th>AWDT_ROUNDED</th>\n",
       "      <th>REPORT NUMBER</th>\n",
       "      <th>vol_geo</th>\n",
       "      <th>line_i</th>\n",
       "      <th>DATETIME</th>\n",
       "      <th>geometry</th>\n",
       "      <th>line_geo</th>\n",
       "      <th>SPEEDLIMIT</th>\n",
       "      <th>...</th>\n",
       "      <th>is_light</th>\n",
       "      <th>is_clear</th>\n",
       "      <th>is_hit_run</th>\n",
       "      <th>is_workzone</th>\n",
       "      <th>is_child</th>\n",
       "      <th>impaired</th>\n",
       "      <th>speeding</th>\n",
       "      <th>driver_16_25</th>\n",
       "      <th>driver_65_plus</th>\n",
       "      <th>severity</th>\n",
       "    </tr>\n",
       "  </thead>\n",
       "  <tbody>\n",
       "    <tr>\n",
       "      <th>0</th>\n",
       "      <td>6551.0</td>\n",
       "      <td>6058.0</td>\n",
       "      <td>6700</td>\n",
       "      <td>3773772</td>\n",
       "      <td>MULTILINESTRING ((-122.31811 47.60621, -122.31...</td>\n",
       "      <td>5040.0</td>\n",
       "      <td>2019-04-19 15:52:00</td>\n",
       "      <td>POINT (-122.3194157932671 47.60620717409615)</td>\n",
       "      <td>LINESTRING (-122.3194130473 47.60520171290543,...</td>\n",
       "      <td>20.0</td>\n",
       "      <td>...</td>\n",
       "      <td>1</td>\n",
       "      <td>0</td>\n",
       "      <td>0</td>\n",
       "      <td>0</td>\n",
       "      <td>0</td>\n",
       "      <td>0</td>\n",
       "      <td>0</td>\n",
       "      <td>0</td>\n",
       "      <td>0</td>\n",
       "      <td>3</td>\n",
       "    </tr>\n",
       "    <tr>\n",
       "      <th>1</th>\n",
       "      <td>11001.0</td>\n",
       "      <td>10581.0</td>\n",
       "      <td>11300</td>\n",
       "      <td>3773784</td>\n",
       "      <td>MULTILINESTRING ((-122.32023 47.62546, -122.32...</td>\n",
       "      <td>5053.0</td>\n",
       "      <td>2017-06-27 06:40:00</td>\n",
       "      <td>POINT (-122.320220950092 47.62656256721589)</td>\n",
       "      <td>LINESTRING (-122.320226408124 47.6254609770248...</td>\n",
       "      <td>25.0</td>\n",
       "      <td>...</td>\n",
       "      <td>1</td>\n",
       "      <td>0</td>\n",
       "      <td>0</td>\n",
       "      <td>0</td>\n",
       "      <td>0</td>\n",
       "      <td>0</td>\n",
       "      <td>0</td>\n",
       "      <td>0</td>\n",
       "      <td>0</td>\n",
       "      <td>3</td>\n",
       "    </tr>\n",
       "    <tr>\n",
       "      <th>2</th>\n",
       "      <td>18147.0</td>\n",
       "      <td>16962.0</td>\n",
       "      <td>18100</td>\n",
       "      <td>E779051</td>\n",
       "      <td>MULTILINESTRING ((-122.32007 47.63840, -122.32...</td>\n",
       "      <td>22.0</td>\n",
       "      <td>2018-03-10 23:00:00</td>\n",
       "      <td>POINT (-122.3200693522767 47.63866711037208)</td>\n",
       "      <td>LINESTRING (-122.3200712955947 47.638403224769...</td>\n",
       "      <td>25.0</td>\n",
       "      <td>...</td>\n",
       "      <td>0</td>\n",
       "      <td>0</td>\n",
       "      <td>1</td>\n",
       "      <td>0</td>\n",
       "      <td>0</td>\n",
       "      <td>0</td>\n",
       "      <td>0</td>\n",
       "      <td>0</td>\n",
       "      <td>0</td>\n",
       "      <td>3</td>\n",
       "    </tr>\n",
       "    <tr>\n",
       "      <th>3</th>\n",
       "      <td>13771.0</td>\n",
       "      <td>12966.0</td>\n",
       "      <td>13800</td>\n",
       "      <td>3773767</td>\n",
       "      <td>MULTILINESTRING ((-122.32021 47.62867, -122.32...</td>\n",
       "      <td>21776.0</td>\n",
       "      <td>2017-07-02 15:13:00</td>\n",
       "      <td>POINT (-122.3200853721749 47.6364851511106)</td>\n",
       "      <td>LINESTRING (-122.3200894771424 47.635912816973...</td>\n",
       "      <td>25.0</td>\n",
       "      <td>...</td>\n",
       "      <td>1</td>\n",
       "      <td>0</td>\n",
       "      <td>0</td>\n",
       "      <td>0</td>\n",
       "      <td>0</td>\n",
       "      <td>0</td>\n",
       "      <td>0</td>\n",
       "      <td>0</td>\n",
       "      <td>0</td>\n",
       "      <td>3</td>\n",
       "    </tr>\n",
       "    <tr>\n",
       "      <th>4</th>\n",
       "      <td>13771.0</td>\n",
       "      <td>12966.0</td>\n",
       "      <td>13800</td>\n",
       "      <td>3814426</td>\n",
       "      <td>MULTILINESTRING ((-122.32021 47.62867, -122.32...</td>\n",
       "      <td>14741.0</td>\n",
       "      <td>2018-10-23 21:24:00</td>\n",
       "      <td>POINT (-122.3200713729534 47.63839277947622)</td>\n",
       "      <td>LINESTRING (-122.3200798231693 47.637251797263...</td>\n",
       "      <td>25.0</td>\n",
       "      <td>...</td>\n",
       "      <td>0</td>\n",
       "      <td>0</td>\n",
       "      <td>0</td>\n",
       "      <td>0</td>\n",
       "      <td>0</td>\n",
       "      <td>0</td>\n",
       "      <td>0</td>\n",
       "      <td>0</td>\n",
       "      <td>0</td>\n",
       "      <td>2</td>\n",
       "    </tr>\n",
       "  </tbody>\n",
       "</table>\n",
       "<p>5 rows × 27 columns</p>\n",
       "</div>"
      ],
      "text/plain": [
       "      AWDT      ADT  AWDT_ROUNDED REPORT NUMBER  \\\n",
       "0   6551.0   6058.0          6700       3773772   \n",
       "1  11001.0  10581.0         11300       3773784   \n",
       "2  18147.0  16962.0         18100       E779051   \n",
       "3  13771.0  12966.0         13800       3773767   \n",
       "4  13771.0  12966.0         13800       3814426   \n",
       "\n",
       "                                             vol_geo   line_i  \\\n",
       "0  MULTILINESTRING ((-122.31811 47.60621, -122.31...   5040.0   \n",
       "1  MULTILINESTRING ((-122.32023 47.62546, -122.32...   5053.0   \n",
       "2  MULTILINESTRING ((-122.32007 47.63840, -122.32...     22.0   \n",
       "3  MULTILINESTRING ((-122.32021 47.62867, -122.32...  21776.0   \n",
       "4  MULTILINESTRING ((-122.32021 47.62867, -122.32...  14741.0   \n",
       "\n",
       "             DATETIME                                      geometry  \\\n",
       "0 2019-04-19 15:52:00  POINT (-122.3194157932671 47.60620717409615)   \n",
       "1 2017-06-27 06:40:00   POINT (-122.320220950092 47.62656256721589)   \n",
       "2 2018-03-10 23:00:00  POINT (-122.3200693522767 47.63866711037208)   \n",
       "3 2017-07-02 15:13:00   POINT (-122.3200853721749 47.6364851511106)   \n",
       "4 2018-10-23 21:24:00  POINT (-122.3200713729534 47.63839277947622)   \n",
       "\n",
       "                                            line_geo  SPEEDLIMIT  ...  \\\n",
       "0  LINESTRING (-122.3194130473 47.60520171290543,...        20.0  ...   \n",
       "1  LINESTRING (-122.320226408124 47.6254609770248...        25.0  ...   \n",
       "2  LINESTRING (-122.3200712955947 47.638403224769...        25.0  ...   \n",
       "3  LINESTRING (-122.3200894771424 47.635912816973...        25.0  ...   \n",
       "4  LINESTRING (-122.3200798231693 47.637251797263...        25.0  ...   \n",
       "\n",
       "   is_light  is_clear  is_hit_run  is_workzone  is_child  impaired  speeding  \\\n",
       "0         1         0           0            0         0         0         0   \n",
       "1         1         0           0            0         0         0         0   \n",
       "2         0         0           1            0         0         0         0   \n",
       "3         1         0           0            0         0         0         0   \n",
       "4         0         0           0            0         0         0         0   \n",
       "\n",
       "   driver_16_25  driver_65_plus  severity  \n",
       "0             0               0         3  \n",
       "1             0               0         3  \n",
       "2             0               0         3  \n",
       "3             0               0         3  \n",
       "4             0               0         2  \n",
       "\n",
       "[5 rows x 27 columns]"
      ]
     },
     "execution_count": 48,
     "metadata": {},
     "output_type": "execute_result"
    }
   ],
   "source": [
    "gdf.head()"
   ]
  },
  {
   "cell_type": "code",
   "execution_count": 49,
   "id": "caa46c2a",
   "metadata": {},
   "outputs": [
    {
     "data": {
      "text/plain": [
       "Index(['AWDT', 'ADT', 'AWDT_ROUNDED', 'REPORT NUMBER', 'vol_geo', 'line_i',\n",
       "       'DATETIME', 'geometry', 'line_geo', 'SPEEDLIMIT', 'SURFACEWIDTH',\n",
       "       'one_way', 'is_steep', 'is_paved', 'is_hwy', 'is_bus', 'is_truck',\n",
       "       'is_light', 'is_clear', 'is_hit_run', 'is_workzone', 'is_child',\n",
       "       'impaired', 'speeding', 'driver_16_25', 'driver_65_plus', 'severity'],\n",
       "      dtype='object')"
      ]
     },
     "execution_count": 49,
     "metadata": {},
     "output_type": "execute_result"
    }
   ],
   "source": [
    "gdf.columns"
   ]
  },
  {
   "cell_type": "code",
   "execution_count": null,
   "id": "6ed9d4ca",
   "metadata": {},
   "outputs": [],
   "source": [
    "gdf."
   ]
  },
  {
   "cell_type": "code",
   "execution_count": 51,
   "id": "e3812246",
   "metadata": {},
   "outputs": [],
   "source": [
    "gdf.to_csv('data/crash_streets_vol.csv', index=False)"
   ]
  }
 ],
 "metadata": {
  "kernelspec": {
   "display_name": "bikeindex",
   "language": "python",
   "name": "bikeindex"
  },
  "language_info": {
   "codemirror_mode": {
    "name": "ipython",
    "version": 3
   },
   "file_extension": ".py",
   "mimetype": "text/x-python",
   "name": "python",
   "nbconvert_exporter": "python",
   "pygments_lexer": "ipython3",
   "version": "3.8.5"
  }
 },
 "nbformat": 4,
 "nbformat_minor": 5
}

{
 "cells": [
  {
   "cell_type": "markdown",
   "metadata": {},
   "source": [
    "## Bike Index Seattle - Data Prep\n",
    "\n",
    "### Data cleaning for Seattle streets data"
   ]
  },
  {
   "cell_type": "markdown",
   "metadata": {},
   "source": [
    "##### Objective: Recreate the study by Allen-Munley et al. (2004) for Seattle using WSDOT crash data.\n",
    "\n",
    "\n",
    "#### Part 2.\n",
    "\n",
    "I will take \n",
    "\n",
    "[Street Data](https://data-seattlecitygis.opendata.arcgis.com/datasets/seattle-streets)\n",
    "[PDF](https://www.seattle.gov/Documents/Departments/SDOT/GIS/Seattle_Streets_OD.pdf)"
   ]
  },
  {
   "cell_type": "code",
   "execution_count": 136,
   "metadata": {},
   "outputs": [],
   "source": [
    "import requests\n",
    "import json\n",
    "import pandas as pd\n",
    "import numpy as np\n",
    "import os\n",
    "import pathlib\n",
    "import matplotlib.pyplot as plt"
   ]
  },
  {
   "cell_type": "code",
   "execution_count": 71,
   "metadata": {},
   "outputs": [],
   "source": [
    "%matplotlib inline"
   ]
  },
  {
   "cell_type": "code",
   "execution_count": 2,
   "metadata": {},
   "outputs": [],
   "source": [
    "url = 'https://data.seattle.gov/resource/38vd-gytv.json'"
   ]
  },
  {
   "cell_type": "code",
   "execution_count": 3,
   "metadata": {},
   "outputs": [],
   "source": [
    "gisurl = 'https://opendata.arcgis.com/datasets/383027d103f042499693da22d72d10e3_0.geojson'"
   ]
  },
  {
   "cell_type": "code",
   "execution_count": 4,
   "metadata": {},
   "outputs": [],
   "source": [
    "r = requests.get(gisurl)"
   ]
  },
  {
   "cell_type": "code",
   "execution_count": 5,
   "metadata": {},
   "outputs": [],
   "source": [
    "streets = r.json()"
   ]
  },
  {
   "cell_type": "code",
   "execution_count": 6,
   "metadata": {},
   "outputs": [
    {
     "data": {
      "text/plain": [
       "'C:\\\\Users\\\\admin\\\\Documents\\\\Projects\\\\bike-index'"
      ]
     },
     "execution_count": 6,
     "metadata": {},
     "output_type": "execute_result"
    }
   ],
   "source": [
    "os.getcwd()"
   ]
  },
  {
   "cell_type": "code",
   "execution_count": 37,
   "metadata": {},
   "outputs": [],
   "source": [
    "crashes = pd.read_csv('data/bike_crash.csv')"
   ]
  },
  {
   "cell_type": "code",
   "execution_count": 8,
   "metadata": {},
   "outputs": [
    {
     "data": {
      "text/plain": [
       "dict"
      ]
     },
     "execution_count": 8,
     "metadata": {},
     "output_type": "execute_result"
    }
   ],
   "source": [
    "type(streets)"
   ]
  },
  {
   "cell_type": "code",
   "execution_count": 9,
   "metadata": {},
   "outputs": [
    {
     "data": {
      "text/plain": [
       "{'type': 'Feature',\n",
       " 'properties': {'OBJECTID': 1,\n",
       "  'ARTCLASS': 2,\n",
       "  'COMPKEY': 1006,\n",
       "  'UNITID': '00010',\n",
       "  'UNITID2': '0120',\n",
       "  'UNITIDSORT': '000100120',\n",
       "  'UNITDESC': '1ST AVE BETWEEN SENECA ST AND UNIVERSITY ST',\n",
       "  'STNAME_ORD': '1ST AVE',\n",
       "  'XSTRLO': 'SENECA ST',\n",
       "  'XSTRHI': 'UNIVERSITY ST',\n",
       "  'ARTDESCRIPT': 'Minor Arterial',\n",
       "  'OWNER': ' ',\n",
       "  'STATUS': 'INSVC',\n",
       "  'BLOCKNBR': 1200,\n",
       "  'SPEEDLIMIT': 25,\n",
       "  'SEGDIR': 'NW',\n",
       "  'ONEWAY': 'N',\n",
       "  'ONEWAYDIR': ' ',\n",
       "  'FLOW': ' ',\n",
       "  'SEGLENGTH': 306.0,\n",
       "  'SURFACEWIDTH': 48,\n",
       "  'SURFACETYPE_1': 'PCC',\n",
       "  'SURFACETYPE_2': 'AC/PCC',\n",
       "  'INTRLO': '1ST AVE AND SENECA ST',\n",
       "  'DIRLO': 'NW',\n",
       "  'INTKEYLO': 29611,\n",
       "  'INTRHI': '1ST AVE AND UNIVERSITY ST',\n",
       "  'DIRHI': 'SE',\n",
       "  'NATIONHWYSYS': 'N',\n",
       "  'STREETTYPE': 'Downtown Neighborhood',\n",
       "  'PVMTCONDINDX1': 87,\n",
       "  'PVMTCONDINDX2': 62,\n",
       "  'TRANCLASS': 1,\n",
       "  'TRANDESCRIPT': 'PRINCIPAL TRANSIT ROUTE',\n",
       "  'SLOPE_PCT': 4,\n",
       "  'PVMTCATEGORY': 'ART',\n",
       "  'PARKBOULEVARD': 'N',\n",
       "  'SHAPE_Length': 305.966027667416},\n",
       " 'geometry': {'type': 'LineString',\n",
       "  'coordinates': [[-122.33754426991814, 47.606121758459935],\n",
       "   [-122.3381970161078, 47.60683500384577]]}}"
      ]
     },
     "execution_count": 9,
     "metadata": {},
     "output_type": "execute_result"
    }
   ],
   "source": [
    "streets['features'][0]"
   ]
  },
  {
   "cell_type": "code",
   "execution_count": 14,
   "metadata": {},
   "outputs": [],
   "source": [
    "import geopandas as gpd\n",
    "import shapely"
   ]
  },
  {
   "cell_type": "code",
   "execution_count": 16,
   "metadata": {},
   "outputs": [],
   "source": [
    "from shapely.geometry import Point, LineString"
   ]
  },
  {
   "cell_type": "code",
   "execution_count": 39,
   "metadata": {},
   "outputs": [],
   "source": [
    "geom = [Point(xy) for xy in zip(crashes.LONGITUDE, crashes.LATITUDE)]"
   ]
  },
  {
   "cell_type": "code",
   "execution_count": 118,
   "metadata": {},
   "outputs": [],
   "source": [
    "gdf_crashes = gpd.GeoDataFrame(crashes.drop(['LATITUDE','LONGITUDE'], axis = 1),\n",
    "                               geometry = geom)"
   ]
  },
  {
   "cell_type": "code",
   "execution_count": 188,
   "metadata": {},
   "outputs": [],
   "source": [
    "gdf_crashes.crs"
   ]
  },
  {
   "cell_type": "code",
   "execution_count": 97,
   "metadata": {},
   "outputs": [],
   "source": [
    "#gdf_crashes"
   ]
  },
  {
   "cell_type": "code",
   "execution_count": 81,
   "metadata": {},
   "outputs": [],
   "source": [
    "plt.rcParams[\"figure.figsize\"] = (20,20)"
   ]
  },
  {
   "cell_type": "code",
   "execution_count": 119,
   "metadata": {},
   "outputs": [
    {
     "data": {
      "text/plain": [
       "rtree.index.Index(bounds=[-122.43071639472724, 47.48525419603729, -122.22788968951711, 47.73414256142292], size=23806)"
      ]
     },
     "execution_count": 119,
     "metadata": {},
     "output_type": "execute_result"
    }
   ],
   "source": [
    "gdf.sindex"
   ]
  },
  {
   "cell_type": "code",
   "execution_count": 131,
   "metadata": {},
   "outputs": [],
   "source": [
    "offset = 10**-4 ## approx 100m\n",
    "\n",
    "bbox = gdf_crashes.bounds + [-offset, -offset, offset, offset]"
   ]
  },
  {
   "cell_type": "code",
   "execution_count": 132,
   "metadata": {},
   "outputs": [],
   "source": [
    "hits = bbox.apply(lambda row: list(gdf.sindex.intersection(row)), axis=1)"
   ]
  },
  {
   "cell_type": "code",
   "execution_count": 134,
   "metadata": {},
   "outputs": [
    {
     "data": {
      "text/plain": [
       "[23792, 11434, 7188, 753]"
      ]
     },
     "execution_count": 134,
     "metadata": {},
     "output_type": "execute_result"
    }
   ],
   "source": [
    "max(hits)"
   ]
  },
  {
   "cell_type": "code",
   "execution_count": 170,
   "metadata": {},
   "outputs": [],
   "source": [
    "tmp = pd.DataFrame({\n",
    "    # index of points table\n",
    "    \"pt_idx\": np.repeat(hits.index, hits.apply(len)),\n",
    "    # ordinal position of line - access via iloc later\n",
    "    \"line_i\": np.concatenate(hits.values)\n",
    "})"
   ]
  },
  {
   "cell_type": "code",
   "execution_count": 171,
   "metadata": {},
   "outputs": [],
   "source": [
    "# Join back to the lines on line_i; we use reset_index() to \n",
    "# give us the ordinal position of each line\n",
    "\n",
    "tmp1 = tmp.merge(gdf.reset_index(drop=False).rename(columns={'index':'line_i'}), on=\"line_i\")\n",
    "# Join back to the original points to get their geometry\n",
    "# rename the point geometry as \"point\""
   ]
  },
  {
   "cell_type": "code",
   "execution_count": 172,
   "metadata": {},
   "outputs": [],
   "source": [
    "crashes_tmp = gdf_crashes.reset_index(drop=False).rename(columns={'geometry':'point', 'index':'pt_idx'})"
   ]
  },
  {
   "cell_type": "code",
   "execution_count": 173,
   "metadata": {},
   "outputs": [
    {
     "data": {
      "text/plain": [
       "Index(['pt_idx', 'REPORT NUMBER', 'BLOCK NUMBER', 'DATETIME', 'severity',\n",
       "       'is_dry', 'is_light', 'is_clear', 'is_hit_run', 'TOTAL VEHICLES',\n",
       "       'TOTAL PEDESTRIANS INVOLVED', 'TOTAL BICYCLISTS INVOLVED', 'point'],\n",
       "      dtype='object')"
      ]
     },
     "execution_count": 173,
     "metadata": {},
     "output_type": "execute_result"
    }
   ],
   "source": [
    "crashes_tmp.columns"
   ]
  },
  {
   "cell_type": "code",
   "execution_count": 174,
   "metadata": {},
   "outputs": [],
   "source": [
    "tmp2 = tmp1.merge(crashes_tmp, on=\"pt_idx\")\n",
    "# Convert back to a GeoDataFrame, so we can do spatial ops\n",
    "\n",
    "tmp3 = gpd.GeoDataFrame(tmp2, geometry=\"geometry\", crs=gdf_crashes.crs)"
   ]
  },
  {
   "cell_type": "code",
   "execution_count": 176,
   "metadata": {},
   "outputs": [],
   "source": [
    "tmp3[\"snap_dist\"] = tmp3.geometry.distance(gpd.GeoSeries(tmp3.point))"
   ]
  },
  {
   "cell_type": "code",
   "execution_count": 187,
   "metadata": {},
   "outputs": [],
   "source": []
  },
  {
   "cell_type": "code",
   "execution_count": 177,
   "metadata": {},
   "outputs": [
    {
     "ename": "NameError",
     "evalue": "name 'tolerance' is not defined",
     "output_type": "error",
     "traceback": [
      "\u001b[1;31m---------------------------------------------------------------------------\u001b[0m",
      "\u001b[1;31mNameError\u001b[0m                                 Traceback (most recent call last)",
      "\u001b[1;32m<ipython-input-177-1d45f0b941dd>\u001b[0m in \u001b[0;36m<module>\u001b[1;34m\u001b[0m\n\u001b[0;32m      1\u001b[0m \u001b[1;31m# Discard any lines that are greater than tolerance from points\u001b[0m\u001b[1;33m\u001b[0m\u001b[1;33m\u001b[0m\u001b[1;33m\u001b[0m\u001b[0m\n\u001b[1;32m----> 2\u001b[1;33m \u001b[0mtmp4\u001b[0m \u001b[1;33m=\u001b[0m \u001b[0mtmp3\u001b[0m\u001b[1;33m.\u001b[0m\u001b[0mloc\u001b[0m\u001b[1;33m[\u001b[0m\u001b[0mtmp3\u001b[0m\u001b[1;33m.\u001b[0m\u001b[0msnap_dist\u001b[0m \u001b[1;33m<=\u001b[0m \u001b[0mtolerance\u001b[0m\u001b[1;33m]\u001b[0m\u001b[1;33m\u001b[0m\u001b[1;33m\u001b[0m\u001b[0m\n\u001b[0m\u001b[0;32m      3\u001b[0m \u001b[1;31m# Sort on ascending snap distance, so that closest goes to top\u001b[0m\u001b[1;33m\u001b[0m\u001b[1;33m\u001b[0m\u001b[1;33m\u001b[0m\u001b[0m\n\u001b[0;32m      4\u001b[0m \u001b[0mtmp4\u001b[0m \u001b[1;33m=\u001b[0m \u001b[0mtmp4\u001b[0m\u001b[1;33m.\u001b[0m\u001b[0msort_values\u001b[0m\u001b[1;33m(\u001b[0m\u001b[0mby\u001b[0m\u001b[1;33m=\u001b[0m\u001b[1;33m[\u001b[0m\u001b[1;34m\"snap_dist\"\u001b[0m\u001b[1;33m]\u001b[0m\u001b[1;33m)\u001b[0m\u001b[1;33m\u001b[0m\u001b[1;33m\u001b[0m\u001b[0m\n",
      "\u001b[1;31mNameError\u001b[0m: name 'tolerance' is not defined"
     ]
    }
   ],
   "source": [
    "tolerance = \n",
    "\n",
    "# Discard any lines that are greater than tolerance from points\n",
    "tmp4 = tmp3.loc[tmp3.snap_dist <= tolerance]\n",
    "# Sort on ascending snap distance, so that closest goes to top\n",
    "tmp4 = tmp4.sort_values(by=[\"snap_dist\"])"
   ]
  },
  {
   "cell_type": "code",
   "execution_count": null,
   "metadata": {},
   "outputs": [],
   "source": []
  },
  {
   "cell_type": "code",
   "execution_count": null,
   "metadata": {},
   "outputs": [],
   "source": []
  },
  {
   "cell_type": "code",
   "execution_count": null,
   "metadata": {},
   "outputs": [],
   "source": []
  },
  {
   "cell_type": "code",
   "execution_count": 95,
   "metadata": {},
   "outputs": [],
   "source": [
    "#gdf.plot(column='TRANDESCRIPT', legend=True)"
   ]
  },
  {
   "cell_type": "code",
   "execution_count": 96,
   "metadata": {},
   "outputs": [],
   "source": [
    "#gdf_crashes.plot(column='severity',legend=True)"
   ]
  },
  {
   "cell_type": "code",
   "execution_count": 46,
   "metadata": {},
   "outputs": [],
   "source": [
    "point = gdf_crashes.iloc[0]['geometry']"
   ]
  },
  {
   "cell_type": "code",
   "execution_count": 49,
   "metadata": {},
   "outputs": [
    {
     "data": {
      "text/plain": [
       "0        LINESTRING (-122.33754 47.60612, -122.33820 47...\n",
       "1        LINESTRING (-122.34001 47.60882, -122.34092 47...\n",
       "2        LINESTRING (-122.35538 47.62637, -122.35538 47...\n",
       "3        LINESTRING (-122.35558 47.63912, -122.35557 47...\n",
       "4        LINESTRING (-122.35553 47.64562, -122.35553 47...\n",
       "                               ...                        \n",
       "23801    LINESTRING (-122.31336 47.57775, -122.31206 47...\n",
       "23802    LINESTRING (-122.30174 47.71207, -122.30036 47...\n",
       "23803    LINESTRING (-122.28882 47.56075, -122.28769 47...\n",
       "23804    LINESTRING (-122.34291 47.63342, -122.34228 47...\n",
       "23805    LINESTRING (-122.29192 47.58362, -122.29192 47...\n",
       "Name: geometry, Length: 23806, dtype: geometry"
      ]
     },
     "execution_count": 49,
     "metadata": {},
     "output_type": "execute_result"
    }
   ],
   "source": [
    "gdf['geometry']"
   ]
  },
  {
   "cell_type": "code",
   "execution_count": 114,
   "metadata": {},
   "outputs": [
    {
     "data": {
      "text/html": [
       "<div>\n",
       "<style scoped>\n",
       "    .dataframe tbody tr th:only-of-type {\n",
       "        vertical-align: middle;\n",
       "    }\n",
       "\n",
       "    .dataframe tbody tr th {\n",
       "        vertical-align: top;\n",
       "    }\n",
       "\n",
       "    .dataframe thead th {\n",
       "        text-align: right;\n",
       "    }\n",
       "</style>\n",
       "<table border=\"1\" class=\"dataframe\">\n",
       "  <thead>\n",
       "    <tr style=\"text-align: right;\">\n",
       "      <th></th>\n",
       "      <th>REPORT NUMBER</th>\n",
       "      <th>BLOCK NUMBER</th>\n",
       "      <th>DATETIME</th>\n",
       "      <th>severity</th>\n",
       "      <th>is_dry</th>\n",
       "      <th>is_light</th>\n",
       "      <th>is_clear</th>\n",
       "      <th>is_hit_run</th>\n",
       "      <th>TOTAL VEHICLES</th>\n",
       "      <th>TOTAL PEDESTRIANS INVOLVED</th>\n",
       "      <th>...</th>\n",
       "      <th>NATIONHWYSYS</th>\n",
       "      <th>STREETTYPE</th>\n",
       "      <th>PVMTCONDINDX1</th>\n",
       "      <th>PVMTCONDINDX2</th>\n",
       "      <th>TRANCLASS</th>\n",
       "      <th>TRANDESCRIPT</th>\n",
       "      <th>SLOPE_PCT</th>\n",
       "      <th>PVMTCATEGORY</th>\n",
       "      <th>PARKBOULEVARD</th>\n",
       "      <th>SHAPE_Length</th>\n",
       "    </tr>\n",
       "  </thead>\n",
       "  <tbody>\n",
       "    <tr>\n",
       "      <th>0</th>\n",
       "      <td>3773772</td>\n",
       "      <td>0.0</td>\n",
       "      <td>2019-04-19 15:52:00</td>\n",
       "      <td>3</td>\n",
       "      <td>0</td>\n",
       "      <td>1</td>\n",
       "      <td>0</td>\n",
       "      <td>0</td>\n",
       "      <td>1</td>\n",
       "      <td>0</td>\n",
       "      <td>...</td>\n",
       "      <td>NaN</td>\n",
       "      <td>NaN</td>\n",
       "      <td>NaN</td>\n",
       "      <td>NaN</td>\n",
       "      <td>NaN</td>\n",
       "      <td>NaN</td>\n",
       "      <td>NaN</td>\n",
       "      <td>NaN</td>\n",
       "      <td>NaN</td>\n",
       "      <td>NaN</td>\n",
       "    </tr>\n",
       "    <tr>\n",
       "      <th>1</th>\n",
       "      <td>3773784</td>\n",
       "      <td>700.0</td>\n",
       "      <td>2017-06-27 06:40:00</td>\n",
       "      <td>3</td>\n",
       "      <td>1</td>\n",
       "      <td>1</td>\n",
       "      <td>1</td>\n",
       "      <td>0</td>\n",
       "      <td>1</td>\n",
       "      <td>0</td>\n",
       "      <td>...</td>\n",
       "      <td>NaN</td>\n",
       "      <td>NaN</td>\n",
       "      <td>NaN</td>\n",
       "      <td>NaN</td>\n",
       "      <td>NaN</td>\n",
       "      <td>NaN</td>\n",
       "      <td>NaN</td>\n",
       "      <td>NaN</td>\n",
       "      <td>NaN</td>\n",
       "      <td>NaN</td>\n",
       "    </tr>\n",
       "    <tr>\n",
       "      <th>2</th>\n",
       "      <td>E779051</td>\n",
       "      <td>2100.0</td>\n",
       "      <td>2018-03-10 23:00:00</td>\n",
       "      <td>3</td>\n",
       "      <td>0</td>\n",
       "      <td>0</td>\n",
       "      <td>0</td>\n",
       "      <td>1</td>\n",
       "      <td>1</td>\n",
       "      <td>0</td>\n",
       "      <td>...</td>\n",
       "      <td>NaN</td>\n",
       "      <td>NaN</td>\n",
       "      <td>NaN</td>\n",
       "      <td>NaN</td>\n",
       "      <td>NaN</td>\n",
       "      <td>NaN</td>\n",
       "      <td>NaN</td>\n",
       "      <td>NaN</td>\n",
       "      <td>NaN</td>\n",
       "      <td>NaN</td>\n",
       "    </tr>\n",
       "    <tr>\n",
       "      <th>3</th>\n",
       "      <td>3773767</td>\n",
       "      <td>1900.0</td>\n",
       "      <td>2017-07-02 15:13:00</td>\n",
       "      <td>3</td>\n",
       "      <td>1</td>\n",
       "      <td>1</td>\n",
       "      <td>1</td>\n",
       "      <td>0</td>\n",
       "      <td>1</td>\n",
       "      <td>0</td>\n",
       "      <td>...</td>\n",
       "      <td>NaN</td>\n",
       "      <td>NaN</td>\n",
       "      <td>NaN</td>\n",
       "      <td>NaN</td>\n",
       "      <td>NaN</td>\n",
       "      <td>NaN</td>\n",
       "      <td>NaN</td>\n",
       "      <td>NaN</td>\n",
       "      <td>NaN</td>\n",
       "      <td>NaN</td>\n",
       "    </tr>\n",
       "    <tr>\n",
       "      <th>4</th>\n",
       "      <td>EA10570</td>\n",
       "      <td>600.0</td>\n",
       "      <td>2020-01-31 13:45:00</td>\n",
       "      <td>3</td>\n",
       "      <td>0</td>\n",
       "      <td>1</td>\n",
       "      <td>0</td>\n",
       "      <td>0</td>\n",
       "      <td>1</td>\n",
       "      <td>0</td>\n",
       "      <td>...</td>\n",
       "      <td>NaN</td>\n",
       "      <td>NaN</td>\n",
       "      <td>NaN</td>\n",
       "      <td>NaN</td>\n",
       "      <td>NaN</td>\n",
       "      <td>NaN</td>\n",
       "      <td>NaN</td>\n",
       "      <td>NaN</td>\n",
       "      <td>NaN</td>\n",
       "      <td>NaN</td>\n",
       "    </tr>\n",
       "    <tr>\n",
       "      <th>...</th>\n",
       "      <td>...</td>\n",
       "      <td>...</td>\n",
       "      <td>...</td>\n",
       "      <td>...</td>\n",
       "      <td>...</td>\n",
       "      <td>...</td>\n",
       "      <td>...</td>\n",
       "      <td>...</td>\n",
       "      <td>...</td>\n",
       "      <td>...</td>\n",
       "      <td>...</td>\n",
       "      <td>...</td>\n",
       "      <td>...</td>\n",
       "      <td>...</td>\n",
       "      <td>...</td>\n",
       "      <td>...</td>\n",
       "      <td>...</td>\n",
       "      <td>...</td>\n",
       "      <td>...</td>\n",
       "      <td>...</td>\n",
       "      <td>...</td>\n",
       "    </tr>\n",
       "    <tr>\n",
       "      <th>1329</th>\n",
       "      <td>E921701</td>\n",
       "      <td>NaN</td>\n",
       "      <td>2019-04-26 16:42:00</td>\n",
       "      <td>3</td>\n",
       "      <td>1</td>\n",
       "      <td>1</td>\n",
       "      <td>1</td>\n",
       "      <td>0</td>\n",
       "      <td>1</td>\n",
       "      <td>0</td>\n",
       "      <td>...</td>\n",
       "      <td>NaN</td>\n",
       "      <td>NaN</td>\n",
       "      <td>NaN</td>\n",
       "      <td>NaN</td>\n",
       "      <td>NaN</td>\n",
       "      <td>NaN</td>\n",
       "      <td>NaN</td>\n",
       "      <td>NaN</td>\n",
       "      <td>NaN</td>\n",
       "      <td>NaN</td>\n",
       "    </tr>\n",
       "    <tr>\n",
       "      <th>1330</th>\n",
       "      <td>EA50958</td>\n",
       "      <td>NaN</td>\n",
       "      <td>2020-05-18 16:44:00</td>\n",
       "      <td>2</td>\n",
       "      <td>1</td>\n",
       "      <td>1</td>\n",
       "      <td>1</td>\n",
       "      <td>0</td>\n",
       "      <td>1</td>\n",
       "      <td>0</td>\n",
       "      <td>...</td>\n",
       "      <td>NaN</td>\n",
       "      <td>NaN</td>\n",
       "      <td>NaN</td>\n",
       "      <td>NaN</td>\n",
       "      <td>NaN</td>\n",
       "      <td>NaN</td>\n",
       "      <td>NaN</td>\n",
       "      <td>NaN</td>\n",
       "      <td>NaN</td>\n",
       "      <td>NaN</td>\n",
       "    </tr>\n",
       "    <tr>\n",
       "      <th>1331</th>\n",
       "      <td>E686939</td>\n",
       "      <td>NaN</td>\n",
       "      <td>2017-06-21 17:21:00</td>\n",
       "      <td>3</td>\n",
       "      <td>1</td>\n",
       "      <td>1</td>\n",
       "      <td>1</td>\n",
       "      <td>0</td>\n",
       "      <td>3</td>\n",
       "      <td>0</td>\n",
       "      <td>...</td>\n",
       "      <td>NaN</td>\n",
       "      <td>NaN</td>\n",
       "      <td>NaN</td>\n",
       "      <td>NaN</td>\n",
       "      <td>NaN</td>\n",
       "      <td>NaN</td>\n",
       "      <td>NaN</td>\n",
       "      <td>NaN</td>\n",
       "      <td>NaN</td>\n",
       "      <td>NaN</td>\n",
       "    </tr>\n",
       "    <tr>\n",
       "      <th>1332</th>\n",
       "      <td>E930347</td>\n",
       "      <td>NaN</td>\n",
       "      <td>2019-06-09 14:44:00</td>\n",
       "      <td>2</td>\n",
       "      <td>1</td>\n",
       "      <td>1</td>\n",
       "      <td>1</td>\n",
       "      <td>1</td>\n",
       "      <td>1</td>\n",
       "      <td>0</td>\n",
       "      <td>...</td>\n",
       "      <td>NaN</td>\n",
       "      <td>NaN</td>\n",
       "      <td>NaN</td>\n",
       "      <td>NaN</td>\n",
       "      <td>NaN</td>\n",
       "      <td>NaN</td>\n",
       "      <td>NaN</td>\n",
       "      <td>NaN</td>\n",
       "      <td>NaN</td>\n",
       "      <td>NaN</td>\n",
       "    </tr>\n",
       "    <tr>\n",
       "      <th>1333</th>\n",
       "      <td>E764702</td>\n",
       "      <td>NaN</td>\n",
       "      <td>2018-01-25 22:13:00</td>\n",
       "      <td>3</td>\n",
       "      <td>0</td>\n",
       "      <td>0</td>\n",
       "      <td>1</td>\n",
       "      <td>0</td>\n",
       "      <td>1</td>\n",
       "      <td>0</td>\n",
       "      <td>...</td>\n",
       "      <td>NaN</td>\n",
       "      <td>NaN</td>\n",
       "      <td>NaN</td>\n",
       "      <td>NaN</td>\n",
       "      <td>NaN</td>\n",
       "      <td>NaN</td>\n",
       "      <td>NaN</td>\n",
       "      <td>NaN</td>\n",
       "      <td>NaN</td>\n",
       "      <td>NaN</td>\n",
       "    </tr>\n",
       "  </tbody>\n",
       "</table>\n",
       "<p>1334 rows × 51 columns</p>\n",
       "</div>"
      ],
      "text/plain": [
       "     REPORT NUMBER  BLOCK NUMBER             DATETIME  severity  is_dry  \\\n",
       "0          3773772           0.0  2019-04-19 15:52:00         3       0   \n",
       "1          3773784         700.0  2017-06-27 06:40:00         3       1   \n",
       "2          E779051        2100.0  2018-03-10 23:00:00         3       0   \n",
       "3          3773767        1900.0  2017-07-02 15:13:00         3       1   \n",
       "4          EA10570         600.0  2020-01-31 13:45:00         3       0   \n",
       "...            ...           ...                  ...       ...     ...   \n",
       "1329       E921701           NaN  2019-04-26 16:42:00         3       1   \n",
       "1330       EA50958           NaN  2020-05-18 16:44:00         2       1   \n",
       "1331       E686939           NaN  2017-06-21 17:21:00         3       1   \n",
       "1332       E930347           NaN  2019-06-09 14:44:00         2       1   \n",
       "1333       E764702           NaN  2018-01-25 22:13:00         3       0   \n",
       "\n",
       "      is_light  is_clear  is_hit_run  TOTAL VEHICLES  \\\n",
       "0            1         0           0               1   \n",
       "1            1         1           0               1   \n",
       "2            0         0           1               1   \n",
       "3            1         1           0               1   \n",
       "4            1         0           0               1   \n",
       "...        ...       ...         ...             ...   \n",
       "1329         1         1           0               1   \n",
       "1330         1         1           0               1   \n",
       "1331         1         1           0               3   \n",
       "1332         1         1           1               1   \n",
       "1333         0         1           0               1   \n",
       "\n",
       "      TOTAL PEDESTRIANS INVOLVED  ...  NATIONHWYSYS STREETTYPE  PVMTCONDINDX1  \\\n",
       "0                              0  ...           NaN        NaN            NaN   \n",
       "1                              0  ...           NaN        NaN            NaN   \n",
       "2                              0  ...           NaN        NaN            NaN   \n",
       "3                              0  ...           NaN        NaN            NaN   \n",
       "4                              0  ...           NaN        NaN            NaN   \n",
       "...                          ...  ...           ...        ...            ...   \n",
       "1329                           0  ...           NaN        NaN            NaN   \n",
       "1330                           0  ...           NaN        NaN            NaN   \n",
       "1331                           0  ...           NaN        NaN            NaN   \n",
       "1332                           0  ...           NaN        NaN            NaN   \n",
       "1333                           0  ...           NaN        NaN            NaN   \n",
       "\n",
       "      PVMTCONDINDX2  TRANCLASS  TRANDESCRIPT SLOPE_PCT PVMTCATEGORY  \\\n",
       "0               NaN        NaN           NaN       NaN          NaN   \n",
       "1               NaN        NaN           NaN       NaN          NaN   \n",
       "2               NaN        NaN           NaN       NaN          NaN   \n",
       "3               NaN        NaN           NaN       NaN          NaN   \n",
       "4               NaN        NaN           NaN       NaN          NaN   \n",
       "...             ...        ...           ...       ...          ...   \n",
       "1329            NaN        NaN           NaN       NaN          NaN   \n",
       "1330            NaN        NaN           NaN       NaN          NaN   \n",
       "1331            NaN        NaN           NaN       NaN          NaN   \n",
       "1332            NaN        NaN           NaN       NaN          NaN   \n",
       "1333            NaN        NaN           NaN       NaN          NaN   \n",
       "\n",
       "     PARKBOULEVARD SHAPE_Length  \n",
       "0              NaN          NaN  \n",
       "1              NaN          NaN  \n",
       "2              NaN          NaN  \n",
       "3              NaN          NaN  \n",
       "4              NaN          NaN  \n",
       "...            ...          ...  \n",
       "1329           NaN          NaN  \n",
       "1330           NaN          NaN  \n",
       "1331           NaN          NaN  \n",
       "1332           NaN          NaN  \n",
       "1333           NaN          NaN  \n",
       "\n",
       "[1334 rows x 51 columns]"
      ]
     },
     "execution_count": 114,
     "metadata": {},
     "output_type": "execute_result"
    }
   ],
   "source": [
    "gpd.sjoin(gdf_crashes, gdf, how = 'left', op='overlaps')"
   ]
  },
  {
   "cell_type": "code",
   "execution_count": 116,
   "metadata": {},
   "outputs": [
    {
     "data": {
      "text/plain": [
       "0"
      ]
     },
     "execution_count": 116,
     "metadata": {},
     "output_type": "execute_result"
    }
   ],
   "source": [
    "point = gdf_crashes.iloc[3]['geometry']\n",
    "st = [ln.within(point) for ln in gdf['geometry']]\n",
    "sum(st)"
   ]
  },
  {
   "cell_type": "code",
   "execution_count": null,
   "metadata": {},
   "outputs": [],
   "source": []
  },
  {
   "cell_type": "code",
   "execution_count": 57,
   "metadata": {},
   "outputs": [
    {
     "data": {
      "image/svg+xml": [
       "<svg xmlns=\"http://www.w3.org/2000/svg\" xmlns:xlink=\"http://www.w3.org/1999/xlink\" width=\"100.0\" height=\"100.0\" viewBox=\"-123.32009176246387 46.63648519736368 2.0 2.0\" preserveAspectRatio=\"xMinYMin meet\"><g transform=\"matrix(1,0,0,-1,0,95.27297039472737)\"><circle cx=\"-122.32009176246387\" cy=\"47.63648519736368\" r=\"0.06\" stroke=\"#555555\" stroke-width=\"0.02\" fill=\"#66cc99\" opacity=\"0.6\" /></g></svg>"
      ],
      "text/plain": [
       "<shapely.geometry.point.Point at 0x204c5fc4460>"
      ]
     },
     "execution_count": 57,
     "metadata": {},
     "output_type": "execute_result"
    }
   ],
   "source": [
    "point"
   ]
  },
  {
   "cell_type": "code",
   "execution_count": 17,
   "metadata": {
    "scrolled": true
   },
   "outputs": [],
   "source": [
    "gdf = gpd.GeoDataFrame.from_features(streets)"
   ]
  },
  {
   "cell_type": "code",
   "execution_count": 22,
   "metadata": {},
   "outputs": [],
   "source": [
    "line = gdf.iloc[0]['geometry']"
   ]
  },
  {
   "cell_type": "code",
   "execution_count": 24,
   "metadata": {},
   "outputs": [
    {
     "data": {
      "text/html": [
       "<div>\n",
       "<style scoped>\n",
       "    .dataframe tbody tr th:only-of-type {\n",
       "        vertical-align: middle;\n",
       "    }\n",
       "\n",
       "    .dataframe tbody tr th {\n",
       "        vertical-align: top;\n",
       "    }\n",
       "\n",
       "    .dataframe thead th {\n",
       "        text-align: right;\n",
       "    }\n",
       "</style>\n",
       "<table border=\"1\" class=\"dataframe\">\n",
       "  <thead>\n",
       "    <tr style=\"text-align: right;\">\n",
       "      <th></th>\n",
       "      <th>Unnamed: 0</th>\n",
       "      <th>REPORT NUMBER</th>\n",
       "      <th>BLOCK NUMBER</th>\n",
       "      <th>DATETIME</th>\n",
       "      <th>LATITUDE</th>\n",
       "      <th>LONGITUDE</th>\n",
       "      <th>severity</th>\n",
       "      <th>is_dry</th>\n",
       "      <th>is_light</th>\n",
       "      <th>is_clear</th>\n",
       "      <th>is_hit_run</th>\n",
       "      <th>TOTAL VEHICLES</th>\n",
       "      <th>TOTAL PEDESTRIANS INVOLVED</th>\n",
       "      <th>TOTAL BICYCLISTS INVOLVED</th>\n",
       "    </tr>\n",
       "  </thead>\n",
       "  <tbody>\n",
       "    <tr>\n",
       "      <th>0</th>\n",
       "      <td>0</td>\n",
       "      <td>3773772</td>\n",
       "      <td>0.0</td>\n",
       "      <td>2019-04-19 15:52:00</td>\n",
       "      <td>47.606205</td>\n",
       "      <td>-122.319417</td>\n",
       "      <td>3</td>\n",
       "      <td>0</td>\n",
       "      <td>1</td>\n",
       "      <td>0</td>\n",
       "      <td>0</td>\n",
       "      <td>1</td>\n",
       "      <td>0</td>\n",
       "      <td>1</td>\n",
       "    </tr>\n",
       "    <tr>\n",
       "      <th>1</th>\n",
       "      <td>1</td>\n",
       "      <td>3773784</td>\n",
       "      <td>700.0</td>\n",
       "      <td>2017-06-27 06:40:00</td>\n",
       "      <td>47.626561</td>\n",
       "      <td>-122.320235</td>\n",
       "      <td>3</td>\n",
       "      <td>1</td>\n",
       "      <td>1</td>\n",
       "      <td>1</td>\n",
       "      <td>0</td>\n",
       "      <td>1</td>\n",
       "      <td>0</td>\n",
       "      <td>1</td>\n",
       "    </tr>\n",
       "    <tr>\n",
       "      <th>2</th>\n",
       "      <td>2</td>\n",
       "      <td>E779051</td>\n",
       "      <td>2100.0</td>\n",
       "      <td>2018-03-10 23:00:00</td>\n",
       "      <td>47.638665</td>\n",
       "      <td>-122.320075</td>\n",
       "      <td>3</td>\n",
       "      <td>0</td>\n",
       "      <td>0</td>\n",
       "      <td>0</td>\n",
       "      <td>1</td>\n",
       "      <td>1</td>\n",
       "      <td>0</td>\n",
       "      <td>1</td>\n",
       "    </tr>\n",
       "    <tr>\n",
       "      <th>3</th>\n",
       "      <td>3</td>\n",
       "      <td>3773767</td>\n",
       "      <td>1900.0</td>\n",
       "      <td>2017-07-02 15:13:00</td>\n",
       "      <td>47.636483</td>\n",
       "      <td>-122.320093</td>\n",
       "      <td>3</td>\n",
       "      <td>1</td>\n",
       "      <td>1</td>\n",
       "      <td>1</td>\n",
       "      <td>0</td>\n",
       "      <td>1</td>\n",
       "      <td>0</td>\n",
       "      <td>1</td>\n",
       "    </tr>\n",
       "    <tr>\n",
       "      <th>4</th>\n",
       "      <td>4</td>\n",
       "      <td>EA10570</td>\n",
       "      <td>600.0</td>\n",
       "      <td>2020-01-31 13:45:00</td>\n",
       "      <td>47.624503</td>\n",
       "      <td>-122.319881</td>\n",
       "      <td>3</td>\n",
       "      <td>0</td>\n",
       "      <td>1</td>\n",
       "      <td>0</td>\n",
       "      <td>0</td>\n",
       "      <td>1</td>\n",
       "      <td>0</td>\n",
       "      <td>1</td>\n",
       "    </tr>\n",
       "    <tr>\n",
       "      <th>...</th>\n",
       "      <td>...</td>\n",
       "      <td>...</td>\n",
       "      <td>...</td>\n",
       "      <td>...</td>\n",
       "      <td>...</td>\n",
       "      <td>...</td>\n",
       "      <td>...</td>\n",
       "      <td>...</td>\n",
       "      <td>...</td>\n",
       "      <td>...</td>\n",
       "      <td>...</td>\n",
       "      <td>...</td>\n",
       "      <td>...</td>\n",
       "      <td>...</td>\n",
       "    </tr>\n",
       "    <tr>\n",
       "      <th>1329</th>\n",
       "      <td>1329</td>\n",
       "      <td>E921701</td>\n",
       "      <td>NaN</td>\n",
       "      <td>2019-04-26 16:42:00</td>\n",
       "      <td>47.720114</td>\n",
       "      <td>-122.294792</td>\n",
       "      <td>3</td>\n",
       "      <td>1</td>\n",
       "      <td>1</td>\n",
       "      <td>1</td>\n",
       "      <td>0</td>\n",
       "      <td>1</td>\n",
       "      <td>0</td>\n",
       "      <td>1</td>\n",
       "    </tr>\n",
       "    <tr>\n",
       "      <th>1330</th>\n",
       "      <td>1330</td>\n",
       "      <td>EA50958</td>\n",
       "      <td>NaN</td>\n",
       "      <td>2020-05-18 16:44:00</td>\n",
       "      <td>47.723622</td>\n",
       "      <td>-122.292803</td>\n",
       "      <td>2</td>\n",
       "      <td>1</td>\n",
       "      <td>1</td>\n",
       "      <td>1</td>\n",
       "      <td>0</td>\n",
       "      <td>1</td>\n",
       "      <td>0</td>\n",
       "      <td>1</td>\n",
       "    </tr>\n",
       "    <tr>\n",
       "      <th>1331</th>\n",
       "      <td>1331</td>\n",
       "      <td>E686939</td>\n",
       "      <td>NaN</td>\n",
       "      <td>2017-06-21 17:21:00</td>\n",
       "      <td>47.734138</td>\n",
       "      <td>-122.334294</td>\n",
       "      <td>3</td>\n",
       "      <td>1</td>\n",
       "      <td>1</td>\n",
       "      <td>1</td>\n",
       "      <td>0</td>\n",
       "      <td>3</td>\n",
       "      <td>0</td>\n",
       "      <td>1</td>\n",
       "    </tr>\n",
       "    <tr>\n",
       "      <th>1332</th>\n",
       "      <td>1332</td>\n",
       "      <td>E930347</td>\n",
       "      <td>NaN</td>\n",
       "      <td>2019-06-09 14:44:00</td>\n",
       "      <td>47.733971</td>\n",
       "      <td>-122.312781</td>\n",
       "      <td>2</td>\n",
       "      <td>1</td>\n",
       "      <td>1</td>\n",
       "      <td>1</td>\n",
       "      <td>1</td>\n",
       "      <td>1</td>\n",
       "      <td>0</td>\n",
       "      <td>1</td>\n",
       "    </tr>\n",
       "    <tr>\n",
       "      <th>1333</th>\n",
       "      <td>1333</td>\n",
       "      <td>E764702</td>\n",
       "      <td>NaN</td>\n",
       "      <td>2018-01-25 22:13:00</td>\n",
       "      <td>47.733785</td>\n",
       "      <td>-122.296218</td>\n",
       "      <td>3</td>\n",
       "      <td>0</td>\n",
       "      <td>0</td>\n",
       "      <td>1</td>\n",
       "      <td>0</td>\n",
       "      <td>1</td>\n",
       "      <td>0</td>\n",
       "      <td>1</td>\n",
       "    </tr>\n",
       "  </tbody>\n",
       "</table>\n",
       "<p>1334 rows × 14 columns</p>\n",
       "</div>"
      ],
      "text/plain": [
       "      Unnamed: 0 REPORT NUMBER  BLOCK NUMBER             DATETIME   LATITUDE  \\\n",
       "0              0       3773772           0.0  2019-04-19 15:52:00  47.606205   \n",
       "1              1       3773784         700.0  2017-06-27 06:40:00  47.626561   \n",
       "2              2       E779051        2100.0  2018-03-10 23:00:00  47.638665   \n",
       "3              3       3773767        1900.0  2017-07-02 15:13:00  47.636483   \n",
       "4              4       EA10570         600.0  2020-01-31 13:45:00  47.624503   \n",
       "...          ...           ...           ...                  ...        ...   \n",
       "1329        1329       E921701           NaN  2019-04-26 16:42:00  47.720114   \n",
       "1330        1330       EA50958           NaN  2020-05-18 16:44:00  47.723622   \n",
       "1331        1331       E686939           NaN  2017-06-21 17:21:00  47.734138   \n",
       "1332        1332       E930347           NaN  2019-06-09 14:44:00  47.733971   \n",
       "1333        1333       E764702           NaN  2018-01-25 22:13:00  47.733785   \n",
       "\n",
       "       LONGITUDE  severity  is_dry  is_light  is_clear  is_hit_run  \\\n",
       "0    -122.319417         3       0         1         0           0   \n",
       "1    -122.320235         3       1         1         1           0   \n",
       "2    -122.320075         3       0         0         0           1   \n",
       "3    -122.320093         3       1         1         1           0   \n",
       "4    -122.319881         3       0         1         0           0   \n",
       "...          ...       ...     ...       ...       ...         ...   \n",
       "1329 -122.294792         3       1         1         1           0   \n",
       "1330 -122.292803         2       1         1         1           0   \n",
       "1331 -122.334294         3       1         1         1           0   \n",
       "1332 -122.312781         2       1         1         1           1   \n",
       "1333 -122.296218         3       0         0         1           0   \n",
       "\n",
       "      TOTAL VEHICLES  TOTAL PEDESTRIANS INVOLVED  TOTAL BICYCLISTS INVOLVED  \n",
       "0                  1                           0                          1  \n",
       "1                  1                           0                          1  \n",
       "2                  1                           0                          1  \n",
       "3                  1                           0                          1  \n",
       "4                  1                           0                          1  \n",
       "...              ...                         ...                        ...  \n",
       "1329               1                           0                          1  \n",
       "1330               1                           0                          1  \n",
       "1331               3                           0                          1  \n",
       "1332               1                           0                          1  \n",
       "1333               1                           0                          1  \n",
       "\n",
       "[1334 rows x 14 columns]"
      ]
     },
     "execution_count": 24,
     "metadata": {},
     "output_type": "execute_result"
    }
   ],
   "source": [
    "crashes"
   ]
  }
 ],
 "metadata": {
  "kernelspec": {
   "display_name": "bikeindex",
   "language": "python",
   "name": "bikeindex"
  },
  "language_info": {
   "codemirror_mode": {
    "name": "ipython",
    "version": 3
   },
   "file_extension": ".py",
   "mimetype": "text/x-python",
   "name": "python",
   "nbconvert_exporter": "python",
   "pygments_lexer": "ipython3",
   "version": "3.8.5"
  }
 },
 "nbformat": 4,
 "nbformat_minor": 4
}

{
 "cells": [
  {
   "cell_type": "markdown",
   "metadata": {},
   "source": [
    "## Bike Index Seattle - Data Prep\n",
    "\n",
    "### Data cleaning for Seattle streets data"
   ]
  },
  {
   "cell_type": "markdown",
   "metadata": {},
   "source": [
    "##### Objective: Recreate the study by Allen-Munley et al. (2004) for Seattle using WSDOT crash data.\n",
    "\n",
    "\n",
    "#### Part 2.\n",
    "\n",
    "I will take Seattle street data from [SDOT](https://data-seattlecitygis.opendata.arcgis.com/datasets/seattle-streets), which contain the following [attributes](https://www.seattle.gov/Documents/Departments/SDOT/GIS/Seattle_Streets_OD.pdf).\n",
    "\n",
    "The coordinates from the WSDOT crashes do not always correspond to the street network coordinates, so I will first find the nearest street segment from the geodata, and then take the projected coordinate on the street vector as the new crash coordinate, in order to merge the two tables to get street attributes.\n",
    "\n",
    "[Reference for snapping to nearest street](https://medium.com/@brendan_ward/how-to-leverage-geopandas-for-faster-snapping-of-points-to-lines-6113c94e59aa)"
   ]
  },
  {
   "cell_type": "code",
   "execution_count": 43,
   "metadata": {},
   "outputs": [],
   "source": [
    "import requests\n",
    "import json\n",
    "import pandas as pd\n",
    "import numpy as np\n",
    "import geopandas as gpd\n",
    "import shapely\n",
    "from shapely.geometry import Point, LineString\n",
    "import os\n",
    "import pathlib\n",
    "import matplotlib.pyplot as plt"
   ]
  },
  {
   "cell_type": "code",
   "execution_count": 44,
   "metadata": {},
   "outputs": [],
   "source": [
    "%matplotlib inline"
   ]
  },
  {
   "cell_type": "code",
   "execution_count": 45,
   "metadata": {},
   "outputs": [],
   "source": [
    "url = 'https://data.seattle.gov/resource/38vd-gytv.json'"
   ]
  },
  {
   "cell_type": "code",
   "execution_count": 46,
   "metadata": {},
   "outputs": [],
   "source": [
    "gisurl = 'https://opendata.arcgis.com/datasets/383027d103f042499693da22d72d10e3_0.geojson'"
   ]
  },
  {
   "cell_type": "code",
   "execution_count": 47,
   "metadata": {},
   "outputs": [],
   "source": [
    "r = requests.get(gisurl)"
   ]
  },
  {
   "cell_type": "code",
   "execution_count": 48,
   "metadata": {},
   "outputs": [],
   "source": [
    "streets = r.json()"
   ]
  },
  {
   "cell_type": "code",
   "execution_count": 108,
   "metadata": {},
   "outputs": [],
   "source": [
    "crashes = pd.read_csv('data/bike_crash.csv')\n",
    "\n",
    "geom = [Point(xy) for xy in zip(crashes.LONGITUDE, crashes.LATITUDE)]\n",
    "\n",
    "gdf_crashes = gpd.GeoDataFrame(crashes.drop(['LATITUDE','LONGITUDE'], axis = 1),\n",
    "                               geometry = geom)"
   ]
  },
  {
   "cell_type": "code",
   "execution_count": 109,
   "metadata": {
    "scrolled": true
   },
   "outputs": [],
   "source": [
    "gdf = gpd.GeoDataFrame.from_features(streets)"
   ]
  },
  {
   "cell_type": "code",
   "execution_count": 110,
   "metadata": {},
   "outputs": [],
   "source": [
    "plt.rcParams[\"figure.figsize\"] = (20,20)"
   ]
  },
  {
   "cell_type": "code",
   "execution_count": 111,
   "metadata": {},
   "outputs": [
    {
     "data": {
      "text/plain": [
       "rtree.index.Index(bounds=[-122.43071639472724, 47.48525419603729, -122.22788968951711, 47.73414256142292], size=23806)"
      ]
     },
     "execution_count": 111,
     "metadata": {},
     "output_type": "execute_result"
    }
   ],
   "source": [
    "gdf.sindex"
   ]
  },
  {
   "cell_type": "code",
   "execution_count": 112,
   "metadata": {},
   "outputs": [],
   "source": [
    "offset = 10**-4 ## approx 10m\n",
    "\n",
    "bbox = gdf_crashes.bounds + [-offset, -offset, offset, offset]"
   ]
  },
  {
   "cell_type": "code",
   "execution_count": 113,
   "metadata": {},
   "outputs": [],
   "source": [
    "hits = bbox.apply(lambda row: list(gdf.sindex.intersection(row)), axis=1)"
   ]
  },
  {
   "cell_type": "code",
   "execution_count": 114,
   "metadata": {},
   "outputs": [],
   "source": [
    "tmp = pd.DataFrame({\n",
    "    # index of points table\n",
    "    \"pt_idx\": np.repeat(hits.index, hits.apply(len)),\n",
    "    # ordinal position of line - access via iloc later\n",
    "    \"line_i\": np.concatenate(hits.values)\n",
    "})"
   ]
  },
  {
   "cell_type": "code",
   "execution_count": 115,
   "metadata": {},
   "outputs": [],
   "source": [
    "# Join back to the lines on line_i; we use reset_index() to \n",
    "# give us the ordinal position of each line\n",
    "\n",
    "tmp1 = tmp.merge(gdf.reset_index(drop=False).rename(columns={'index':'line_i'}), on=\"line_i\")\n",
    "# Join back to the original points to get their geometry\n",
    "# rename the point geometry as \"point\""
   ]
  },
  {
   "cell_type": "code",
   "execution_count": 116,
   "metadata": {},
   "outputs": [],
   "source": [
    "crashes_tmp = gdf_crashes.reset_index(drop=False).rename(columns={'geometry':'point', 'index':'pt_idx'})"
   ]
  },
  {
   "cell_type": "code",
   "execution_count": 117,
   "metadata": {},
   "outputs": [
    {
     "data": {
      "text/plain": [
       "Index(['pt_idx', 'REPORT NUMBER', 'BLOCK NUMBER', 'PRIMARY TRAFFICWAY',\n",
       "       'INTERSECTING TRAFFICWAY', 'DATETIME', 'severity', 'is_dry', 'is_light',\n",
       "       'is_clear', 'is_hit_run', 'TOTAL VEHICLES',\n",
       "       'TOTAL PEDESTRIANS INVOLVED', 'TOTAL BICYCLISTS INVOLVED', 'point'],\n",
       "      dtype='object')"
      ]
     },
     "execution_count": 117,
     "metadata": {},
     "output_type": "execute_result"
    }
   ],
   "source": [
    "crashes_tmp.columns"
   ]
  },
  {
   "cell_type": "code",
   "execution_count": 118,
   "metadata": {},
   "outputs": [],
   "source": [
    "tmp2 = tmp1.merge(crashes_tmp, on=\"pt_idx\")\n",
    "# Convert back to a GeoDataFrame, so we can do spatial ops\n",
    "\n",
    "tmp3 = gpd.GeoDataFrame(tmp2, geometry=\"geometry\", crs=gdf_crashes.crs)"
   ]
  },
  {
   "cell_type": "code",
   "execution_count": 119,
   "metadata": {},
   "outputs": [],
   "source": [
    "tmp3[\"snap_dist\"] = tmp3.geometry.distance(gpd.GeoSeries(tmp3.point))"
   ]
  },
  {
   "cell_type": "code",
   "execution_count": 120,
   "metadata": {},
   "outputs": [
    {
     "data": {
      "text/plain": [
       "0.015461724901658874"
      ]
     },
     "execution_count": 120,
     "metadata": {},
     "output_type": "execute_result"
    }
   ],
   "source": [
    "max(tmp3.snap_dist)"
   ]
  },
  {
   "cell_type": "code",
   "execution_count": 121,
   "metadata": {},
   "outputs": [],
   "source": [
    "tolerance = offset # keep at same distance, approx 10m\n",
    "\n",
    "# Discard any lines that are greater than tolerance from points\n",
    "tmp4 = tmp3.loc[tmp3.snap_dist <= tolerance]\n",
    "# Sort on ascending snap distance, so that closest goes to top\n",
    "tmp4 = tmp4.sort_values(by=[\"snap_dist\"])"
   ]
  },
  {
   "cell_type": "code",
   "execution_count": 123,
   "metadata": {},
   "outputs": [],
   "source": [
    "# group by the index of the points and take the first, which is the\n",
    "# closest line \n",
    "closest = tmp4.groupby(\"pt_idx\").first()\n",
    "# construct a GeoDataFrame of the closest lines\n",
    "closest = gpd.GeoDataFrame(closest, geometry=\"geometry\")"
   ]
  },
  {
   "cell_type": "code",
   "execution_count": 126,
   "metadata": {},
   "outputs": [
    {
     "data": {
      "text/html": [
       "<div>\n",
       "<style scoped>\n",
       "    .dataframe tbody tr th:only-of-type {\n",
       "        vertical-align: middle;\n",
       "    }\n",
       "\n",
       "    .dataframe tbody tr th {\n",
       "        vertical-align: top;\n",
       "    }\n",
       "\n",
       "    .dataframe thead th {\n",
       "        text-align: right;\n",
       "    }\n",
       "</style>\n",
       "<table border=\"1\" class=\"dataframe\">\n",
       "  <thead>\n",
       "    <tr style=\"text-align: right;\">\n",
       "      <th></th>\n",
       "      <th>UNITDESC</th>\n",
       "      <th>PRIMARY TRAFFICWAY</th>\n",
       "      <th>INTERSECTING TRAFFICWAY</th>\n",
       "    </tr>\n",
       "    <tr>\n",
       "      <th>pt_idx</th>\n",
       "      <th></th>\n",
       "      <th></th>\n",
       "      <th></th>\n",
       "    </tr>\n",
       "  </thead>\n",
       "  <tbody>\n",
       "    <tr>\n",
       "      <th>972</th>\n",
       "      <td>NE 53RD ST BETWEEN RAVENNA AVE NE AND 24TH AVE NE</td>\n",
       "      <td>RAVENNA PL NE</td>\n",
       "      <td>None</td>\n",
       "    </tr>\n",
       "    <tr>\n",
       "      <th>472</th>\n",
       "      <td>DEXTER AVE N BETWEEN VALLEY ST AND ALOHA ST</td>\n",
       "      <td>DEXTER AVE N</td>\n",
       "      <td>ALOHA ST</td>\n",
       "    </tr>\n",
       "    <tr>\n",
       "      <th>262</th>\n",
       "      <td>63RD AVE SW BETWEEN SW ADMIRAL WAY AND SW HIND...</td>\n",
       "      <td>63RD AVE SW</td>\n",
       "      <td>None</td>\n",
       "    </tr>\n",
       "    <tr>\n",
       "      <th>1141</th>\n",
       "      <td>STONE WAY N BETWEEN N 36TH ST AND N 38TH ST</td>\n",
       "      <td>STONE WAY N</td>\n",
       "      <td>None</td>\n",
       "    </tr>\n",
       "    <tr>\n",
       "      <th>763</th>\n",
       "      <td>N 109TH ST BETWEEN FREMONT AVE N AND NORTH PAR...</td>\n",
       "      <td>N 109TH ST</td>\n",
       "      <td>None</td>\n",
       "    </tr>\n",
       "    <tr>\n",
       "      <th>89</th>\n",
       "      <td>1ST AVE BETWEEN PINE ST AND STEWART ST</td>\n",
       "      <td>1ST AVE</td>\n",
       "      <td>None</td>\n",
       "    </tr>\n",
       "    <tr>\n",
       "      <th>1326</th>\n",
       "      <td>E LAKE WASHINGTON BLVD BETWEEN MONTLAKE BLVD E...</td>\n",
       "      <td>520LX00094</td>\n",
       "      <td>None</td>\n",
       "    </tr>\n",
       "    <tr>\n",
       "      <th>705</th>\n",
       "      <td>NW 39TH ST BETWEEN LEARY WAY NW AND 3RD AVE NW</td>\n",
       "      <td>LEARY WAY NW</td>\n",
       "      <td>NW 39TH ST</td>\n",
       "    </tr>\n",
       "    <tr>\n",
       "      <th>82</th>\n",
       "      <td>18TH AVE BETWEEN E PINE ST AND E MADISON ST</td>\n",
       "      <td>18TH AVE</td>\n",
       "      <td>None</td>\n",
       "    </tr>\n",
       "    <tr>\n",
       "      <th>579</th>\n",
       "      <td>12TH AVE BETWEEN E YESLER WAY AND E FIR ST</td>\n",
       "      <td>E YESLER WAY</td>\n",
       "      <td>12TH AVE S</td>\n",
       "    </tr>\n",
       "  </tbody>\n",
       "</table>\n",
       "</div>"
      ],
      "text/plain": [
       "                                                 UNITDESC PRIMARY TRAFFICWAY  \\\n",
       "pt_idx                                                                         \n",
       "972     NE 53RD ST BETWEEN RAVENNA AVE NE AND 24TH AVE NE      RAVENNA PL NE   \n",
       "472           DEXTER AVE N BETWEEN VALLEY ST AND ALOHA ST       DEXTER AVE N   \n",
       "262     63RD AVE SW BETWEEN SW ADMIRAL WAY AND SW HIND...        63RD AVE SW   \n",
       "1141          STONE WAY N BETWEEN N 36TH ST AND N 38TH ST        STONE WAY N   \n",
       "763     N 109TH ST BETWEEN FREMONT AVE N AND NORTH PAR...         N 109TH ST   \n",
       "89                 1ST AVE BETWEEN PINE ST AND STEWART ST            1ST AVE   \n",
       "1326    E LAKE WASHINGTON BLVD BETWEEN MONTLAKE BLVD E...         520LX00094   \n",
       "705        NW 39TH ST BETWEEN LEARY WAY NW AND 3RD AVE NW       LEARY WAY NW   \n",
       "82            18TH AVE BETWEEN E PINE ST AND E MADISON ST           18TH AVE   \n",
       "579            12TH AVE BETWEEN E YESLER WAY AND E FIR ST       E YESLER WAY   \n",
       "\n",
       "       INTERSECTING TRAFFICWAY  \n",
       "pt_idx                          \n",
       "972                       None  \n",
       "472                   ALOHA ST  \n",
       "262                       None  \n",
       "1141                      None  \n",
       "763                       None  \n",
       "89                        None  \n",
       "1326                      None  \n",
       "705                 NW 39TH ST  \n",
       "82                        None  \n",
       "579                 12TH AVE S  "
      ]
     },
     "execution_count": 126,
     "metadata": {},
     "output_type": "execute_result"
    }
   ],
   "source": [
    "#randomly check 10 from closest street vs csv file\n",
    "\n",
    "check_ix = np.random.randint(len(closest)-1, size=10)\n",
    "\n",
    "closest.iloc[check_ix][['UNITDESC','PRIMARY TRAFFICWAY','INTERSECTING TRAFFICWAY']]"
   ]
  },
  {
   "cell_type": "code",
   "execution_count": 127,
   "metadata": {},
   "outputs": [],
   "source": [
    "# Position of nearest point from start of the line\n",
    "pos = closest.geometry.project(gpd.GeoSeries(closest.point))\n",
    "\n",
    "# Get new point location geometry\n",
    "new_pts = closest.geometry.interpolate(pos)"
   ]
  },
  {
   "cell_type": "code",
   "execution_count": 137,
   "metadata": {},
   "outputs": [],
   "source": [
    "# Create a new GeoDataFrame from the columns from the closest line and new point geometries (which will be called \"geometries\")\n",
    "\n",
    "crashes_merged = gpd.GeoDataFrame(closest.drop(columns = ['geometry']),geometry=new_pts)"
   ]
  }
 ],
 "metadata": {
  "kernelspec": {
   "display_name": "bikeindex",
   "language": "python",
   "name": "bikeindex"
  },
  "language_info": {
   "codemirror_mode": {
    "name": "ipython",
    "version": 3
   },
   "file_extension": ".py",
   "mimetype": "text/x-python",
   "name": "python",
   "nbconvert_exporter": "python",
   "pygments_lexer": "ipython3",
   "version": "3.8.5"
  }
 },
 "nbformat": 4,
 "nbformat_minor": 4
}
